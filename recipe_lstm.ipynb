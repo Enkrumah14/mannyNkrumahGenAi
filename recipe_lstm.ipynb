{
  "cells": [
    {
      "cell_type": "markdown",
      "metadata": {
        "id": "view-in-github",
        "colab_type": "text"
      },
      "source": [
        "<a href=\"https://colab.research.google.com/github/bforoura/GenAI/blob/main/Module5/recipe_lstm.ipynb\" target=\"_parent\"><img src=\"https://colab.research.google.com/assets/colab-badge.svg\" alt=\"Open In Colab\"/></a>"
      ]
    },
    {
      "cell_type": "markdown",
      "id": "b076bd1a-b236-4fbc-953d-8295b25122ae",
      "metadata": {
        "id": "b076bd1a-b236-4fbc-953d-8295b25122ae"
      },
      "source": [
        "# 🥙 LSTM on Recipe Data"
      ]
    },
    {
      "cell_type": "markdown",
      "id": "658a95da-9645-4bcf-bd9d-4b95a4b6f582",
      "metadata": {
        "id": "658a95da-9645-4bcf-bd9d-4b95a4b6f582"
      },
      "source": [
        "In this notebook, we'll walk through the steps required to train your own LSTM on the recipes dataset"
      ]
    },
    {
      "cell_type": "code",
      "execution_count": 1,
      "id": "4e0d56cc-4773-4029-97d8-26f882ba79c9",
      "metadata": {
        "id": "4e0d56cc-4773-4029-97d8-26f882ba79c9"
      },
      "outputs": [],
      "source": [
        "import numpy as np\n",
        "import json\n",
        "import re\n",
        "import string\n",
        "\n",
        "import tensorflow as tf\n",
        "from tensorflow.keras import layers, models, callbacks, losses"
      ]
    },
    {
      "cell_type": "markdown",
      "id": "339e6268-ebd7-4feb-86db-1fe7abccdbe5",
      "metadata": {
        "id": "339e6268-ebd7-4feb-86db-1fe7abccdbe5"
      },
      "source": [
        "## 0. Parameters <a name=\"parameters\"></a>"
      ]
    },
    {
      "cell_type": "code",
      "execution_count": 2,
      "id": "2d8352af-343e-4c2e-8c91-95f8bac1c8a1",
      "metadata": {
        "id": "2d8352af-343e-4c2e-8c91-95f8bac1c8a1"
      },
      "outputs": [],
      "source": [
        "VOCAB_SIZE = 10000\n",
        "MAX_LEN = 200\n",
        "EMBEDDING_DIM = 100\n",
        "N_UNITS = 128\n",
        "VALIDATION_SPLIT = 0.2\n",
        "SEED = 42\n",
        "LOAD_MODEL = False\n",
        "BATCH_SIZE = 32\n",
        "EPOCHS = 25"
      ]
    },
    {
      "cell_type": "markdown",
      "id": "b7716fac-0010-49b0-b98e-53be2259edde",
      "metadata": {
        "id": "b7716fac-0010-49b0-b98e-53be2259edde"
      },
      "source": [
        "## 1. Load the data <a name=\"load\"></a>"
      ]
    },
    {
      "cell_type": "code",
      "source": [
        "%pwd"
      ],
      "metadata": {
        "colab": {
          "base_uri": "https://localhost:8080/",
          "height": 36
        },
        "id": "0O8-7aHJBSt9",
        "outputId": "60a02ccd-0b2c-4c5d-d47f-4c192bbfdbf6"
      },
      "id": "0O8-7aHJBSt9",
      "execution_count": 5,
      "outputs": [
        {
          "output_type": "execute_result",
          "data": {
            "text/plain": [
              "'/content'"
            ],
            "application/vnd.google.colaboratory.intrinsic+json": {
              "type": "string"
            }
          },
          "metadata": {},
          "execution_count": 5
        }
      ]
    },
    {
      "cell_type": "code",
      "execution_count": 7,
      "id": "93cf6b0f-9667-4146-8911-763a8a2925d3",
      "metadata": {
        "tags": [],
        "id": "93cf6b0f-9667-4146-8911-763a8a2925d3"
      },
      "outputs": [],
      "source": [
        "# Load the full dataset\n",
        "with open(\"/content/full_format_recipes.json\") as json_data:\n",
        "    recipe_data = json.load(json_data)"
      ]
    },
    {
      "cell_type": "code",
      "execution_count": 8,
      "id": "23a74eca-f1b7-4a46-9a1f-b5806a4ed361",
      "metadata": {
        "tags": [],
        "id": "23a74eca-f1b7-4a46-9a1f-b5806a4ed361"
      },
      "outputs": [],
      "source": [
        "# Filter the dataset\n",
        "filtered_data = [\n",
        "    \"Recipe for \" + x[\"title\"] + \" | \" + \" \".join(x[\"directions\"])\n",
        "    for x in recipe_data\n",
        "    if \"title\" in x\n",
        "    and x[\"title\"] is not None\n",
        "    and \"directions\" in x\n",
        "    and x[\"directions\"] is not None\n",
        "]"
      ]
    },
    {
      "cell_type": "code",
      "execution_count": 9,
      "id": "389c20de-0422-4c48-a7b4-6ee12a7bf0e2",
      "metadata": {
        "tags": [],
        "colab": {
          "base_uri": "https://localhost:8080/"
        },
        "id": "389c20de-0422-4c48-a7b4-6ee12a7bf0e2",
        "outputId": "319c51c7-9baf-4c35-e16e-8894a43389ec"
      },
      "outputs": [
        {
          "output_type": "stream",
          "name": "stdout",
          "text": [
            "20111 recipes loaded\n"
          ]
        }
      ],
      "source": [
        "# Count the recipes\n",
        "n_recipes = len(filtered_data)\n",
        "print(f\"{n_recipes} recipes loaded\")"
      ]
    },
    {
      "cell_type": "code",
      "execution_count": 10,
      "id": "1b2e3cf7-e416-460e-874a-0dd9637bca36",
      "metadata": {
        "colab": {
          "base_uri": "https://localhost:8080/"
        },
        "id": "1b2e3cf7-e416-460e-874a-0dd9637bca36",
        "outputId": "73c4818e-e936-4932-ef92-070fdfdd670a"
      },
      "outputs": [
        {
          "output_type": "stream",
          "name": "stdout",
          "text": [
            "Recipe for Ham Persillade with Mustard Potato Salad and Mashed Peas  | Chop enough parsley leaves to measure 1 tablespoon; reserve. Chop remaining leaves and stems and simmer with broth and garlic in a small saucepan, covered, 5 minutes. Meanwhile, sprinkle gelatin over water in a medium bowl and let soften 1 minute. Strain broth through a fine-mesh sieve into bowl with gelatin and stir to dissolve. Season with salt and pepper. Set bowl in an ice bath and cool to room temperature, stirring. Toss ham with reserved parsley and divide among jars. Pour gelatin on top and chill until set, at least 1 hour. Whisk together mayonnaise, mustard, vinegar, 1/4 teaspoon salt, and 1/4 teaspoon pepper in a large bowl. Stir in celery, cornichons, and potatoes. Pulse peas with marjoram, oil, 1/2 teaspoon pepper, and 1/4 teaspoon salt in a food processor to a coarse mash. Layer peas, then potato salad, over ham.\n"
          ]
        }
      ],
      "source": [
        "example = filtered_data[9]\n",
        "print(example)"
      ]
    },
    {
      "cell_type": "markdown",
      "id": "3f871aaf-d873-41c7-8946-e4eef7ac17c1",
      "metadata": {
        "id": "3f871aaf-d873-41c7-8946-e4eef7ac17c1"
      },
      "source": [
        "## 2. Tokenise the data"
      ]
    },
    {
      "cell_type": "code",
      "execution_count": 11,
      "id": "5b2064fb-5dcc-4657-b470-0928d10e2ddc",
      "metadata": {
        "tags": [],
        "id": "5b2064fb-5dcc-4657-b470-0928d10e2ddc"
      },
      "outputs": [],
      "source": [
        "# Pad the punctuation, to treat them as separate 'words'\n",
        "def pad_punctuation(s):\n",
        "    s = re.sub(f\"([{string.punctuation}])\", r\" \\1 \", s)\n",
        "    s = re.sub(\" +\", \" \", s)\n",
        "    return s\n",
        "\n",
        "\n",
        "text_data = [pad_punctuation(x) for x in filtered_data]"
      ]
    },
    {
      "cell_type": "code",
      "execution_count": 12,
      "id": "b87d7c65-9a46-492a-a5c0-a043b0d252f3",
      "metadata": {
        "colab": {
          "base_uri": "https://localhost:8080/",
          "height": 140
        },
        "id": "b87d7c65-9a46-492a-a5c0-a043b0d252f3",
        "outputId": "99df75e3-88c6-4a27-86db-2b902a1f3ead"
      },
      "outputs": [
        {
          "output_type": "execute_result",
          "data": {
            "text/plain": [
              "'Recipe for Ham Persillade with Mustard Potato Salad and Mashed Peas | Chop enough parsley leaves to measure 1 tablespoon ; reserve . Chop remaining leaves and stems and simmer with broth and garlic in a small saucepan , covered , 5 minutes . Meanwhile , sprinkle gelatin over water in a medium bowl and let soften 1 minute . Strain broth through a fine - mesh sieve into bowl with gelatin and stir to dissolve . Season with salt and pepper . Set bowl in an ice bath and cool to room temperature , stirring . Toss ham with reserved parsley and divide among jars . Pour gelatin on top and chill until set , at least 1 hour . Whisk together mayonnaise , mustard , vinegar , 1 / 4 teaspoon salt , and 1 / 4 teaspoon pepper in a large bowl . Stir in celery , cornichons , and potatoes . Pulse peas with marjoram , oil , 1 / 2 teaspoon pepper , and 1 / 4 teaspoon salt in a food processor to a coarse mash . Layer peas , then potato salad , over ham . '"
            ],
            "application/vnd.google.colaboratory.intrinsic+json": {
              "type": "string"
            }
          },
          "metadata": {},
          "execution_count": 12
        }
      ],
      "source": [
        "# Display an example of a recipe\n",
        "example_data = text_data[9]\n",
        "example_data"
      ]
    },
    {
      "cell_type": "code",
      "execution_count": 13,
      "id": "9834f916-b21a-4104-acc9-f28d3bd7a8c1",
      "metadata": {
        "tags": [],
        "id": "9834f916-b21a-4104-acc9-f28d3bd7a8c1"
      },
      "outputs": [],
      "source": [
        "# Convert to a Tensorflow Dataset\n",
        "text_ds = (\n",
        "    tf.data.Dataset.from_tensor_slices(text_data)\n",
        "    .batch(BATCH_SIZE)\n",
        "    .shuffle(1000)\n",
        ")"
      ]
    },
    {
      "cell_type": "code",
      "execution_count": 14,
      "id": "884c0bcb-0807-45a1-8f7e-a32f2c6fa4de",
      "metadata": {
        "id": "884c0bcb-0807-45a1-8f7e-a32f2c6fa4de"
      },
      "outputs": [],
      "source": [
        "# Create a vectorisation layer\n",
        "vectorize_layer = layers.TextVectorization(\n",
        "    standardize=\"lower\",\n",
        "    max_tokens=VOCAB_SIZE,\n",
        "    output_mode=\"int\",\n",
        "    output_sequence_length=MAX_LEN + 1,\n",
        ")"
      ]
    },
    {
      "cell_type": "code",
      "execution_count": 15,
      "id": "4d6dd34a-d905-497b-926a-405380ebcf98",
      "metadata": {
        "id": "4d6dd34a-d905-497b-926a-405380ebcf98"
      },
      "outputs": [],
      "source": [
        "# Adapt the layer to the training set\n",
        "vectorize_layer.adapt(text_ds)\n",
        "vocab = vectorize_layer.get_vocabulary()"
      ]
    },
    {
      "cell_type": "code",
      "execution_count": 16,
      "id": "f6c1c7ce-3cf0-40d4-a3dc-ab7090f69f2f",
      "metadata": {
        "colab": {
          "base_uri": "https://localhost:8080/"
        },
        "id": "f6c1c7ce-3cf0-40d4-a3dc-ab7090f69f2f",
        "outputId": "c4dea794-cedd-4dbe-842e-7bbb25d30406"
      },
      "outputs": [
        {
          "output_type": "stream",
          "name": "stdout",
          "text": [
            "0: \n",
            "1: [UNK]\n",
            "2: .\n",
            "3: ,\n",
            "4: and\n",
            "5: to\n",
            "6: in\n",
            "7: the\n",
            "8: with\n",
            "9: a\n"
          ]
        }
      ],
      "source": [
        "# Display some token:word mappings\n",
        "for i, word in enumerate(vocab[:10]):\n",
        "    print(f\"{i}: {word}\")"
      ]
    },
    {
      "cell_type": "code",
      "execution_count": 17,
      "id": "1cc30186-7ec6-4eb6-b29a-65df6714d321",
      "metadata": {
        "colab": {
          "base_uri": "https://localhost:8080/"
        },
        "id": "1cc30186-7ec6-4eb6-b29a-65df6714d321",
        "outputId": "420db057-0da9-43d5-aa3b-4728ad681adb"
      },
      "outputs": [
        {
          "output_type": "stream",
          "name": "stdout",
          "text": [
            "[  26   16  557    1    8  298  335  189    4 1054  494   27  332  228\n",
            "  235  262    5  594   11  133   22  311    2  332   45  262    4  671\n",
            "    4   70    8  171    4   81    6    9   65   80    3  121    3   59\n",
            "   12    2  299    3   88  650   20   39    6    9   29   21    4   67\n",
            "  529   11  164    2  320  171  102    9  374   13  643  306   25   21\n",
            "    8  650    4   42    5  931    2   63    8   24    4   33    2  114\n",
            "   21    6  178  181 1245    4   60    5  140  112    3   48    2  117\n",
            "  557    8  285  235    4  200  292  980    2  107  650   28   72    4\n",
            "  108   10  114    3   57  204   11  172    2   73  110  482    3  298\n",
            "    3  190    3   11   23   32  142   24    3    4   11   23   32  142\n",
            "   33    6    9   30   21    2   42    6  353    3 3224    3    4  150\n",
            "    2  437  494    8 1281    3   37    3   11   23   15  142   33    3\n",
            "    4   11   23   32  142   24    6    9  291  188    5    9  412  572\n",
            "    2  230  494    3   46  335  189    3   20  557    2    0    0    0\n",
            "    0    0    0    0    0]\n"
          ]
        }
      ],
      "source": [
        "# Display the same example converted to ints\n",
        "example_tokenised = vectorize_layer(example_data)\n",
        "print(example_tokenised.numpy())"
      ]
    },
    {
      "cell_type": "markdown",
      "id": "8c195efb-84c6-4be0-a989-a7542188ad35",
      "metadata": {
        "id": "8c195efb-84c6-4be0-a989-a7542188ad35"
      },
      "source": [
        "## 3. Create the Training Set"
      ]
    },
    {
      "cell_type": "code",
      "execution_count": 18,
      "id": "740294a1-1a6b-4c89-92f2-036d7d1b788b",
      "metadata": {
        "id": "740294a1-1a6b-4c89-92f2-036d7d1b788b"
      },
      "outputs": [],
      "source": [
        "# Create the training set of recipes and the same text shifted by one word\n",
        "def prepare_inputs(text):\n",
        "    text = tf.expand_dims(text, -1)\n",
        "    tokenized_sentences = vectorize_layer(text)\n",
        "    x = tokenized_sentences[:, :-1]\n",
        "    y = tokenized_sentences[:, 1:]\n",
        "    return x, y\n",
        "\n",
        "\n",
        "train_ds = text_ds.map(prepare_inputs)"
      ]
    },
    {
      "cell_type": "markdown",
      "id": "aff50401-3abe-4c10-bba8-b35bc13ad7d5",
      "metadata": {
        "tags": [],
        "id": "aff50401-3abe-4c10-bba8-b35bc13ad7d5"
      },
      "source": [
        "## 4. Build the LSTM <a name=\"build\"></a>"
      ]
    },
    {
      "cell_type": "code",
      "execution_count": 19,
      "id": "9230b5bf-b4a8-48d5-b73b-6899a598f296",
      "metadata": {
        "colab": {
          "base_uri": "https://localhost:8080/",
          "height": 257
        },
        "id": "9230b5bf-b4a8-48d5-b73b-6899a598f296",
        "outputId": "0f9ced51-3490-4d9c-bf95-449437d32d9e"
      },
      "outputs": [
        {
          "output_type": "display_data",
          "data": {
            "text/plain": [
              "\u001b[1mModel: \"functional\"\u001b[0m\n"
            ],
            "text/html": [
              "<pre style=\"white-space:pre;overflow-x:auto;line-height:normal;font-family:Menlo,'DejaVu Sans Mono',consolas,'Courier New',monospace\"><span style=\"font-weight: bold\">Model: \"functional\"</span>\n",
              "</pre>\n"
            ]
          },
          "metadata": {}
        },
        {
          "output_type": "display_data",
          "data": {
            "text/plain": [
              "┏━━━━━━━━━━━━━━━━━━━━━━━━━━━━━━━━━━━━━━┳━━━━━━━━━━━━━━━━━━━━━━━━━━━━━┳━━━━━━━━━━━━━━━━━┓\n",
              "┃\u001b[1m \u001b[0m\u001b[1mLayer (type)                        \u001b[0m\u001b[1m \u001b[0m┃\u001b[1m \u001b[0m\u001b[1mOutput Shape               \u001b[0m\u001b[1m \u001b[0m┃\u001b[1m \u001b[0m\u001b[1m        Param #\u001b[0m\u001b[1m \u001b[0m┃\n",
              "┡━━━━━━━━━━━━━━━━━━━━━━━━━━━━━━━━━━━━━━╇━━━━━━━━━━━━━━━━━━━━━━━━━━━━━╇━━━━━━━━━━━━━━━━━┩\n",
              "│ input_layer (\u001b[38;5;33mInputLayer\u001b[0m)             │ (\u001b[38;5;45mNone\u001b[0m, \u001b[38;5;45mNone\u001b[0m)                │               \u001b[38;5;34m0\u001b[0m │\n",
              "├──────────────────────────────────────┼─────────────────────────────┼─────────────────┤\n",
              "│ embedding (\u001b[38;5;33mEmbedding\u001b[0m)                │ (\u001b[38;5;45mNone\u001b[0m, \u001b[38;5;45mNone\u001b[0m, \u001b[38;5;34m100\u001b[0m)           │       \u001b[38;5;34m1,000,000\u001b[0m │\n",
              "├──────────────────────────────────────┼─────────────────────────────┼─────────────────┤\n",
              "│ lstm (\u001b[38;5;33mLSTM\u001b[0m)                          │ (\u001b[38;5;45mNone\u001b[0m, \u001b[38;5;45mNone\u001b[0m, \u001b[38;5;34m128\u001b[0m)           │         \u001b[38;5;34m117,248\u001b[0m │\n",
              "├──────────────────────────────────────┼─────────────────────────────┼─────────────────┤\n",
              "│ dense (\u001b[38;5;33mDense\u001b[0m)                        │ (\u001b[38;5;45mNone\u001b[0m, \u001b[38;5;45mNone\u001b[0m, \u001b[38;5;34m10000\u001b[0m)         │       \u001b[38;5;34m1,290,000\u001b[0m │\n",
              "└──────────────────────────────────────┴─────────────────────────────┴─────────────────┘\n"
            ],
            "text/html": [
              "<pre style=\"white-space:pre;overflow-x:auto;line-height:normal;font-family:Menlo,'DejaVu Sans Mono',consolas,'Courier New',monospace\">┏━━━━━━━━━━━━━━━━━━━━━━━━━━━━━━━━━━━━━━┳━━━━━━━━━━━━━━━━━━━━━━━━━━━━━┳━━━━━━━━━━━━━━━━━┓\n",
              "┃<span style=\"font-weight: bold\"> Layer (type)                         </span>┃<span style=\"font-weight: bold\"> Output Shape                </span>┃<span style=\"font-weight: bold\">         Param # </span>┃\n",
              "┡━━━━━━━━━━━━━━━━━━━━━━━━━━━━━━━━━━━━━━╇━━━━━━━━━━━━━━━━━━━━━━━━━━━━━╇━━━━━━━━━━━━━━━━━┩\n",
              "│ input_layer (<span style=\"color: #0087ff; text-decoration-color: #0087ff\">InputLayer</span>)             │ (<span style=\"color: #00d7ff; text-decoration-color: #00d7ff\">None</span>, <span style=\"color: #00d7ff; text-decoration-color: #00d7ff\">None</span>)                │               <span style=\"color: #00af00; text-decoration-color: #00af00\">0</span> │\n",
              "├──────────────────────────────────────┼─────────────────────────────┼─────────────────┤\n",
              "│ embedding (<span style=\"color: #0087ff; text-decoration-color: #0087ff\">Embedding</span>)                │ (<span style=\"color: #00d7ff; text-decoration-color: #00d7ff\">None</span>, <span style=\"color: #00d7ff; text-decoration-color: #00d7ff\">None</span>, <span style=\"color: #00af00; text-decoration-color: #00af00\">100</span>)           │       <span style=\"color: #00af00; text-decoration-color: #00af00\">1,000,000</span> │\n",
              "├──────────────────────────────────────┼─────────────────────────────┼─────────────────┤\n",
              "│ lstm (<span style=\"color: #0087ff; text-decoration-color: #0087ff\">LSTM</span>)                          │ (<span style=\"color: #00d7ff; text-decoration-color: #00d7ff\">None</span>, <span style=\"color: #00d7ff; text-decoration-color: #00d7ff\">None</span>, <span style=\"color: #00af00; text-decoration-color: #00af00\">128</span>)           │         <span style=\"color: #00af00; text-decoration-color: #00af00\">117,248</span> │\n",
              "├──────────────────────────────────────┼─────────────────────────────┼─────────────────┤\n",
              "│ dense (<span style=\"color: #0087ff; text-decoration-color: #0087ff\">Dense</span>)                        │ (<span style=\"color: #00d7ff; text-decoration-color: #00d7ff\">None</span>, <span style=\"color: #00d7ff; text-decoration-color: #00d7ff\">None</span>, <span style=\"color: #00af00; text-decoration-color: #00af00\">10000</span>)         │       <span style=\"color: #00af00; text-decoration-color: #00af00\">1,290,000</span> │\n",
              "└──────────────────────────────────────┴─────────────────────────────┴─────────────────┘\n",
              "</pre>\n"
            ]
          },
          "metadata": {}
        },
        {
          "output_type": "display_data",
          "data": {
            "text/plain": [
              "\u001b[1m Total params: \u001b[0m\u001b[38;5;34m2,407,248\u001b[0m (9.18 MB)\n"
            ],
            "text/html": [
              "<pre style=\"white-space:pre;overflow-x:auto;line-height:normal;font-family:Menlo,'DejaVu Sans Mono',consolas,'Courier New',monospace\"><span style=\"font-weight: bold\"> Total params: </span><span style=\"color: #00af00; text-decoration-color: #00af00\">2,407,248</span> (9.18 MB)\n",
              "</pre>\n"
            ]
          },
          "metadata": {}
        },
        {
          "output_type": "display_data",
          "data": {
            "text/plain": [
              "\u001b[1m Trainable params: \u001b[0m\u001b[38;5;34m2,407,248\u001b[0m (9.18 MB)\n"
            ],
            "text/html": [
              "<pre style=\"white-space:pre;overflow-x:auto;line-height:normal;font-family:Menlo,'DejaVu Sans Mono',consolas,'Courier New',monospace\"><span style=\"font-weight: bold\"> Trainable params: </span><span style=\"color: #00af00; text-decoration-color: #00af00\">2,407,248</span> (9.18 MB)\n",
              "</pre>\n"
            ]
          },
          "metadata": {}
        },
        {
          "output_type": "display_data",
          "data": {
            "text/plain": [
              "\u001b[1m Non-trainable params: \u001b[0m\u001b[38;5;34m0\u001b[0m (0.00 B)\n"
            ],
            "text/html": [
              "<pre style=\"white-space:pre;overflow-x:auto;line-height:normal;font-family:Menlo,'DejaVu Sans Mono',consolas,'Courier New',monospace\"><span style=\"font-weight: bold\"> Non-trainable params: </span><span style=\"color: #00af00; text-decoration-color: #00af00\">0</span> (0.00 B)\n",
              "</pre>\n"
            ]
          },
          "metadata": {}
        }
      ],
      "source": [
        "inputs = layers.Input(shape=(None,), dtype=\"int32\")\n",
        "x = layers.Embedding(VOCAB_SIZE, EMBEDDING_DIM)(inputs)\n",
        "x = layers.LSTM(N_UNITS, return_sequences=True)(x)\n",
        "outputs = layers.Dense(VOCAB_SIZE, activation=\"softmax\")(x)\n",
        "lstm = models.Model(inputs, outputs)\n",
        "lstm.summary()"
      ]
    },
    {
      "cell_type": "markdown",
      "id": "35b14665-4359-447b-be58-3fd58ba69084",
      "metadata": {
        "id": "35b14665-4359-447b-be58-3fd58ba69084"
      },
      "source": [
        "## 5. Train the LSTM <a name=\"train\"></a>"
      ]
    },
    {
      "cell_type": "code",
      "execution_count": 20,
      "id": "ffb1bd3b-6fd9-4536-973e-6375bbcbf16d",
      "metadata": {
        "id": "ffb1bd3b-6fd9-4536-973e-6375bbcbf16d"
      },
      "outputs": [],
      "source": [
        "loss_fn = losses.SparseCategoricalCrossentropy()\n",
        "lstm.compile(\"adam\", loss_fn)"
      ]
    },
    {
      "cell_type": "code",
      "execution_count": 21,
      "id": "3ddcff5f-829d-4449-99d2-9a3cb68f7d72",
      "metadata": {
        "id": "3ddcff5f-829d-4449-99d2-9a3cb68f7d72"
      },
      "outputs": [],
      "source": [
        "# Create a TextGenerator checkpoint\n",
        "class TextGenerator(callbacks.Callback):\n",
        "    def __init__(self, index_to_word, top_k=10):\n",
        "        self.index_to_word = index_to_word\n",
        "        self.word_to_index = {\n",
        "            word: index for index, word in enumerate(index_to_word)\n",
        "        }  # <1>\n",
        "\n",
        "    def sample_from(self, probs, temperature):  # <2>\n",
        "        probs = probs ** (1 / temperature)\n",
        "        probs = probs / np.sum(probs)\n",
        "        return np.random.choice(len(probs), p=probs), probs\n",
        "\n",
        "    def generate(self, start_prompt, max_tokens, temperature):\n",
        "        start_tokens = [\n",
        "            self.word_to_index.get(x, 1) for x in start_prompt.split()\n",
        "        ]  # <3>\n",
        "        sample_token = None\n",
        "        info = []\n",
        "        while len(start_tokens) < max_tokens and sample_token != 0:  # <4>\n",
        "            x = np.array([start_tokens])\n",
        "            y = self.model.predict(x, verbose=0)  # <5>\n",
        "            sample_token, probs = self.sample_from(y[0][-1], temperature)  # <6>\n",
        "            info.append({\"prompt\": start_prompt, \"word_probs\": probs})\n",
        "            start_tokens.append(sample_token)  # <7>\n",
        "            start_prompt = start_prompt + \" \" + self.index_to_word[sample_token]\n",
        "        print(f\"\\ngenerated text:\\n{start_prompt}\\n\")\n",
        "        return info\n",
        "\n",
        "    def on_epoch_end(self, epoch, logs=None):\n",
        "        self.generate(\"recipe for\", max_tokens=100, temperature=1.0)"
      ]
    },
    {
      "cell_type": "code",
      "source": [
        "# Tokenize starting prompt\n",
        "\n",
        "text_generator = TextGenerator(vocab)\n"
      ],
      "metadata": {
        "id": "6HBPfZS5k3SB"
      },
      "id": "6HBPfZS5k3SB",
      "execution_count": 30,
      "outputs": []
    },
    {
      "cell_type": "code",
      "execution_count": 31,
      "id": "461c2b3e-b5ae-4def-8bd9-e7bab8c63d8e",
      "metadata": {
        "tags": [],
        "colab": {
          "base_uri": "https://localhost:8080/"
        },
        "id": "461c2b3e-b5ae-4def-8bd9-e7bab8c63d8e",
        "outputId": "5032ecb6-6fe3-46ca-8a65-20b05c767676"
      },
      "outputs": [
        {
          "output_type": "stream",
          "name": "stdout",
          "text": [
            "Epoch 1/25\n",
            "\u001b[1m628/629\u001b[0m \u001b[32m━━━━━━━━━━━━━━━━━━━\u001b[0m\u001b[37m━\u001b[0m \u001b[1m0s\u001b[0m 43ms/step - loss: 1.5388\n",
            "generated text:\n",
            "recipe for mussels in poblano , hoisin and prosciutto | cook onions in garlic until tender but not crisp , about 10 minutes . remove from heat ; add wine , lemon juice , vinegar , salt , pepper , coriander and turmeric . bring to boil . keep pork separately . meanwhile , cook shallots in butter in heavy skillet over medium - high heat 1 minute . add garlic . sauté until vegetables are soft , 10 minutes . using slotted spoon , peel and 1 cut carrots into 2 pieces . fill large deep pot with salted\n",
            "\n",
            "\u001b[1m629/629\u001b[0m \u001b[32m━━━━━━━━━━━━━━━━━━━━\u001b[0m\u001b[37m\u001b[0m \u001b[1m34s\u001b[0m 54ms/step - loss: 1.5388\n",
            "Epoch 2/25\n",
            "\u001b[1m629/629\u001b[0m \u001b[32m━━━━━━━━━━━━━━━━━━━━\u001b[0m\u001b[37m\u001b[0m \u001b[1m0s\u001b[0m 44ms/step - loss: 1.5262\n",
            "generated text:\n",
            "recipe for cauliflower stuffed provencal potatoes with olive and cream | cook green tips in small saucepan over medium heat until liquid is thick and set , about 12 minutes . cool beans until finely chopped . add minced chopped fresh fresh thyme and 3 teaspoons oil . puree until smooth ; season sauce with salt and pepper . place basil leaves in medium bowl and serve . \n",
            "\n",
            "\u001b[1m629/629\u001b[0m \u001b[32m━━━━━━━━━━━━━━━━━━━━\u001b[0m\u001b[37m\u001b[0m \u001b[1m38s\u001b[0m 50ms/step - loss: 1.5262\n",
            "Epoch 3/25\n",
            "\u001b[1m629/629\u001b[0m \u001b[32m━━━━━━━━━━━━━━━━━━━━\u001b[0m\u001b[37m\u001b[0m \u001b[1m0s\u001b[0m 44ms/step - loss: 1.5229\n",
            "generated text:\n",
            "recipe for mango granita with green pineapple | combine rum and grapefruit juice in heavy large saucepan over low heat until fennel and mixture is thick and billowy and instant - read thermometer inserted into centers of centers ( do not pluot and pineapple may still smooth ) . cool . drain well and serve . \n",
            "\n",
            "\u001b[1m629/629\u001b[0m \u001b[32m━━━━━━━━━━━━━━━━━━━━\u001b[0m\u001b[37m\u001b[0m \u001b[1m31s\u001b[0m 49ms/step - loss: 1.5229\n",
            "Epoch 4/25\n",
            "\u001b[1m629/629\u001b[0m \u001b[32m━━━━━━━━━━━━━━━━━━━━\u001b[0m\u001b[37m\u001b[0m \u001b[1m0s\u001b[0m 44ms/step - loss: 1.5064\n",
            "generated text:\n",
            "recipe for chocolate - lemon sorbet | preheat oven to 375°f . lightly grease phyllo sheet . place apples in center of oven . melt butter in heavy large pot . add chorizo and cook until brown , about 12 minutes . add cream , then heat and boil until thick enough to coat spoon , about 10 minutes . carefully add butter mixture and stir 1 minute . mix in cream . reduce heat and simmer 8 minutes . stir in remaining 1 1 / 2 tablespoons lime juice ; add butter . return soup to simmer ; simmer\n",
            "\n",
            "\u001b[1m629/629\u001b[0m \u001b[32m━━━━━━━━━━━━━━━━━━━━\u001b[0m\u001b[37m\u001b[0m \u001b[1m33s\u001b[0m 53ms/step - loss: 1.5064\n",
            "Epoch 5/25\n",
            "\u001b[1m629/629\u001b[0m \u001b[32m━━━━━━━━━━━━━━━━━━━━\u001b[0m\u001b[37m\u001b[0m \u001b[1m0s\u001b[0m 44ms/step - loss: 1.5001\n",
            "generated text:\n",
            "recipe for pommes anna | in a large glass ceramic or glass bowl , whisk puree until smooth . cover and refrigerate until cold . scoop out margarita and glass or hot water and separate kumquat halves . divide into poached strawberries and toss to coat . \n",
            "\n",
            "\u001b[1m629/629\u001b[0m \u001b[32m━━━━━━━━━━━━━━━━━━━━\u001b[0m\u001b[37m\u001b[0m \u001b[1m30s\u001b[0m 48ms/step - loss: 1.5001\n",
            "Epoch 6/25\n",
            "\u001b[1m628/629\u001b[0m \u001b[32m━━━━━━━━━━━━━━━━━━━\u001b[0m\u001b[37m━\u001b[0m \u001b[1m0s\u001b[0m 44ms/step - loss: 1.4961\n",
            "generated text:\n",
            "recipe for rack of potato , pecan , prune , and shallot salad with orange lemon dressing | fill a large saucepan with large star tip three or cup of the smooth water . melt butter in a 5 - to 8 - quart heavy pot over medium heat until shallots are crisp and start to brown , about 5 minutes . add couscous and stir briskly to just coat completely , until it begins to [UNK] and simmer ( 2 1 / 2 minutes ) transfer meat with tongs to a plate . stir together 1 cup broth ,\n",
            "\n",
            "\u001b[1m629/629\u001b[0m \u001b[32m━━━━━━━━━━━━━━━━━━━━\u001b[0m\u001b[37m\u001b[0m \u001b[1m34s\u001b[0m 54ms/step - loss: 1.4961\n",
            "Epoch 7/25\n",
            "\u001b[1m628/629\u001b[0m \u001b[32m━━━━━━━━━━━━━━━━━━━\u001b[0m\u001b[37m━\u001b[0m \u001b[1m0s\u001b[0m 44ms/step - loss: 1.4937\n",
            "generated text:\n",
            "recipe for creamy brandy buttercream | whisk the sugar , brandy , sugar , sugar , vanilla , cinnamon stick , and salt in a food processor and puree until smooth . transfer the mixture to a small bowl . spread 2 tablespoons of the butter mixture over the fruit . pour the coconut mixture into the pans , and crimp the sides , every 30 minutes . 2 . place the wet ingredients on a cookie sheet lined with a smaller dish and top with a second 1 / 2 - cup ( or loaf things for a few\n",
            "\n",
            "\u001b[1m629/629\u001b[0m \u001b[32m━━━━━━━━━━━━━━━━━━━━\u001b[0m\u001b[37m\u001b[0m \u001b[1m35s\u001b[0m 56ms/step - loss: 1.4937\n",
            "Epoch 8/25\n",
            "\u001b[1m629/629\u001b[0m \u001b[32m━━━━━━━━━━━━━━━━━━━━\u001b[0m\u001b[37m\u001b[0m \u001b[1m0s\u001b[0m 44ms/step - loss: 1.4778\n",
            "generated text:\n",
            "recipe for chicken with warm pineapple - cilantro sauce | position rack in center of oven ; preheat to 400°f . place 1 / 2 cup butter in heavy 13 x 9 x 5 x 2 - inch glass baking dish . spread sesame seeds in small bowl ; cover and refrigerate at least 4 hours or overnight ( can be prepared 1 day ahead . cover ; chill . ) spread 1 2 / 4 cups plus 2 teaspoons hot coating on baking sheet ; transfer to rimmed baking sheet . cover top tightly with tenderloin . \n",
            "\n",
            "\u001b[1m629/629\u001b[0m \u001b[32m━━━━━━━━━━━━━━━━━━━━\u001b[0m\u001b[37m\u001b[0m \u001b[1m34s\u001b[0m 54ms/step - loss: 1.4778\n",
            "Epoch 9/25\n",
            "\u001b[1m628/629\u001b[0m \u001b[32m━━━━━━━━━━━━━━━━━━━\u001b[0m\u001b[37m━\u001b[0m \u001b[1m0s\u001b[0m 44ms/step - loss: 1.4742\n",
            "generated text:\n",
            "recipe for gingerbread cakes with ginger and candied walnuts | line baking sheet with parchment with foil . roll out dough on lightly floured surface to 12 to 12 - inch square . cut each round into 8 wedges . roll out pastry , buttered 3 days ; press to submerge . repeat layering one at 15 minutes . halve off and reserve . trim edges of mushrooms , leaving enough to press or cookie pan . skewer tops of cranberries all over with fork . draw lowest level seasoning if filling is attached , at least 8 - inch\n",
            "\n",
            "\u001b[1m629/629\u001b[0m \u001b[32m━━━━━━━━━━━━━━━━━━━━\u001b[0m\u001b[37m\u001b[0m \u001b[1m33s\u001b[0m 53ms/step - loss: 1.4742\n",
            "Epoch 10/25\n",
            "\u001b[1m628/629\u001b[0m \u001b[32m━━━━━━━━━━━━━━━━━━━\u001b[0m\u001b[37m━\u001b[0m \u001b[1m0s\u001b[0m 44ms/step - loss: 1.4723\n",
            "generated text:\n",
            "recipe for roasted garlic stuffing | steam vegetables in oven to 500°f . cover separately and brush lightly with salt . in a large saucepan with water soak garlic in a 11 - to 5 - quart heavy kettle bring a heavy saucepan . drain caramel , reserving bowl separately . in a kettle heat a 4 tbsp butter over medium heat until rice is softened , about 1 minute . add rice , bacon , vinegar , and worcestershire sauce until salt and simmer , whisking frequently , 1 to 4 minutes . stir in juice and simmer ,\n",
            "\n",
            "\u001b[1m629/629\u001b[0m \u001b[32m━━━━━━━━━━━━━━━━━━━━\u001b[0m\u001b[37m\u001b[0m \u001b[1m33s\u001b[0m 53ms/step - loss: 1.4723\n",
            "Epoch 11/25\n",
            "\u001b[1m629/629\u001b[0m \u001b[32m━━━━━━━━━━━━━━━━━━━━\u001b[0m\u001b[37m\u001b[0m \u001b[1m0s\u001b[0m 44ms/step - loss: 1.4589\n",
            "generated text:\n",
            "recipe for tomato , tomato , leek , and daikon , and zucchini , and flank bacon | build a medium pot , melt butter in a deep 14 - inch heavy skillet over medium - high heat until it shimmers . toast bread and salt and pepper , turning once , until golden and crisp , 6 to 6 minutes total for medium - rare . meanwhile , melt butter with 1 / 4 cup butter in a 12 - inch heavy skillet over moderately high heat until foam subsides . working with remaining flour , flatten each batch\n",
            "\n",
            "\u001b[1m629/629\u001b[0m \u001b[32m━━━━━━━━━━━━━━━━━━━━\u001b[0m\u001b[37m\u001b[0m \u001b[1m34s\u001b[0m 55ms/step - loss: 1.4589\n",
            "Epoch 12/25\n",
            "\u001b[1m629/629\u001b[0m \u001b[32m━━━━━━━━━━━━━━━━━━━━\u001b[0m\u001b[37m\u001b[0m \u001b[1m0s\u001b[0m 44ms/step - loss: 1.4570\n",
            "generated text:\n",
            "recipe for vanilla pork and double - chestnut pie with braised pork | melt butter in heavy large skillet over medium - high heat . add dry ingredients ; stir over medium heat until mixture evaporates at room temperature , about 2 minutes . transfer mixture to small bowl . add butter to skillet ; heat to medium - high . add mashed sweet potato and cook 10 minutes . add shallot and tasso ; stir 1 minute longer . season with salt and pepper . toss arugula with 1 tablespoon oil to tomato sauce in single layer . stir\n",
            "\n",
            "\u001b[1m629/629\u001b[0m \u001b[32m━━━━━━━━━━━━━━━━━━━━\u001b[0m\u001b[37m\u001b[0m \u001b[1m35s\u001b[0m 56ms/step - loss: 1.4570\n",
            "Epoch 13/25\n",
            "\u001b[1m629/629\u001b[0m \u001b[32m━━━━━━━━━━━━━━━━━━━━\u001b[0m\u001b[37m\u001b[0m \u001b[1m0s\u001b[0m 44ms/step - loss: 1.4537\n",
            "generated text:\n",
            "recipe for chocolate coconut cheesecake with currant glaze | position 1 rack in center and preheat to 325°f . butter eight 9 - inch - diameter cake pans with 3 1 / 2 - inch - high sides . line bottom of parchment or nonstick resealable plastic bag . stir 1 teaspoon ground cardamom in large rimmed baking sheet . using fork , rub with butter and spices . fold in fig , heart , and figs between sheets of waxed paper . crust can be prepared 1 week ahead . keep chilled . stir together rice , sugar ,\n",
            "\n",
            "\u001b[1m629/629\u001b[0m \u001b[32m━━━━━━━━━━━━━━━━━━━━\u001b[0m\u001b[37m\u001b[0m \u001b[1m34s\u001b[0m 54ms/step - loss: 1.4537\n",
            "Epoch 14/25\n",
            "\u001b[1m628/629\u001b[0m \u001b[32m━━━━━━━━━━━━━━━━━━━\u001b[0m\u001b[37m━\u001b[0m \u001b[1m0s\u001b[0m 44ms/step - loss: 1.4470\n",
            "generated text:\n",
            "recipe for grilled pizza dough | blend flour and sugar in medium bowl to blend . add butter ; rub in spice paste . stir nut mixture over . add butter ; divide among 6 large skillets . lightly grease large baking sheet . sprinkle all over with salt and pepper . using electric mixer , beat in egg and vanilla extract . fold in shrimp mixture alternately with buttermilk in egg chocolate chips . blend in oats , then flour , to flour . stir batter until leaves path on back of spoon . fold in remaining mango mixture\n",
            "\n",
            "\u001b[1m629/629\u001b[0m \u001b[32m━━━━━━━━━━━━━━━━━━━━\u001b[0m\u001b[37m\u001b[0m \u001b[1m33s\u001b[0m 53ms/step - loss: 1.4470\n",
            "Epoch 15/25\n",
            "\u001b[1m629/629\u001b[0m \u001b[32m━━━━━━━━━━━━━━━━━━━━\u001b[0m\u001b[37m\u001b[0m \u001b[1m0s\u001b[0m 44ms/step - loss: 1.4500\n",
            "generated text:\n",
            "recipe for cranberry - rosemary reduction | prepare barbecue ( medium - high heat ) . brush garlic with oil on 1 / 2 cup apple slices . sprinkle lightly oil . let stand at room temperature 30 minutes . mix lamb , garlic , chicken , oregano , rosemary , and remaining 1 / 4 teaspoons coarse salt 7 to 6 lime . coat all large large baking sheets . using electric mixer , whisk all sauce ingredients in medium bowl . whisking until crispy and smooth , about 1 minute . taste and [UNK] should be cooked 1\n",
            "\n",
            "\u001b[1m629/629\u001b[0m \u001b[32m━━━━━━━━━━━━━━━━━━━━\u001b[0m\u001b[37m\u001b[0m \u001b[1m34s\u001b[0m 53ms/step - loss: 1.4500\n",
            "Epoch 16/25\n",
            "\u001b[1m628/629\u001b[0m \u001b[32m━━━━━━━━━━━━━━━━━━━\u001b[0m\u001b[37m━\u001b[0m \u001b[1m0s\u001b[0m 44ms/step - loss: 1.4413\n",
            "generated text:\n",
            "recipe for pan - crusted steaks with curry and pickles | cook endive in heavy large pot of boiling salted water until just crisp - tender , about 3 minutes . drain and reserving 1 / 4 cup oil in small bowl . whisk olive oil in 2 or 4 tablespoons vinegar in large bowl to blend . add pita kernels to taste ; mix oil ( mixture to serve ) . arrange peppers on top and sprinkle with basil , bread , pepitas and broil and bring to simmer . broil until glazed . \n",
            "\n",
            "\u001b[1m629/629\u001b[0m \u001b[32m━━━━━━━━━━━━━━━━━━━━\u001b[0m\u001b[37m\u001b[0m \u001b[1m34s\u001b[0m 54ms/step - loss: 1.4413\n",
            "Epoch 17/25\n",
            "\u001b[1m628/629\u001b[0m \u001b[32m━━━━━━━━━━━━━━━━━━━\u001b[0m\u001b[37m━\u001b[0m \u001b[1m0s\u001b[0m 44ms/step - loss: 1.4337\n",
            "generated text:\n",
            "recipe for four - cheese mashed potatoes | bring large pot of water pot to simmer . reduce heat to medium ; cover and simmer until tender , about 1 hour . meanwhile , bring water to boil , and boil slowly until sugar is reduced to glaze and green leaves are dissolved . \n",
            "\n",
            "\u001b[1m629/629\u001b[0m \u001b[32m━━━━━━━━━━━━━━━━━━━━\u001b[0m\u001b[37m\u001b[0m \u001b[1m32s\u001b[0m 51ms/step - loss: 1.4337\n",
            "Epoch 18/25\n",
            "\u001b[1m628/629\u001b[0m \u001b[32m━━━━━━━━━━━━━━━━━━━\u001b[0m\u001b[37m━\u001b[0m \u001b[1m0s\u001b[0m 45ms/step - loss: 1.4345\n",
            "generated text:\n",
            "recipe for ginger - herb oil | place all ingredients in a stainless steel bowl , then whisk in paprika , paprika , and salt . do ahead : can be made 1 month ahead . store airtight at room temperature . \n",
            "\n",
            "\u001b[1m629/629\u001b[0m \u001b[32m━━━━━━━━━━━━━━━━━━━━\u001b[0m\u001b[37m\u001b[0m \u001b[1m39s\u001b[0m 48ms/step - loss: 1.4345\n",
            "Epoch 19/25\n",
            "\u001b[1m628/629\u001b[0m \u001b[32m━━━━━━━━━━━━━━━━━━━\u001b[0m\u001b[37m━\u001b[0m \u001b[1m0s\u001b[0m 45ms/step - loss: 1.4286\n",
            "generated text:\n",
            "recipe for café azul ' s no dough | 1 . in a small saucepan over medium - high heat pan bring juice , water , sugar , and water to a boil , stirring until sugar is dissolved . remove from heat and stir in orange zest , molasses , thyme , and sugar until dissolved . carefully add whole - pineapple slurry and stir - simmer , covered , about 20 minutes , or until it is reduced to about 1 / 4 cup . cool sticky . spoon out accumulated on a sheet of wax paper and\n",
            "\n",
            "\u001b[1m629/629\u001b[0m \u001b[32m━━━━━━━━━━━━━━━━━━━━\u001b[0m\u001b[37m\u001b[0m \u001b[1m34s\u001b[0m 54ms/step - loss: 1.4286\n",
            "Epoch 20/25\n",
            "\u001b[1m628/629\u001b[0m \u001b[32m━━━━━━━━━━━━━━━━━━━\u001b[0m\u001b[37m━\u001b[0m \u001b[1m0s\u001b[0m 45ms/step - loss: 1.4221\n",
            "generated text:\n",
            "recipe for fig and nutmeg baked alaska | preheat oven to 350°f . squeeze dry but 1 piece of plastic wrap from acidulated water ( 1 to whole \" ) on 1 \" ; cut into 1 / 2 - inch - thick cubes . working in batches bowl , drizzle with remaining 2 tablespoons olive oil ; add to to 12 - inch - out skillet . whisk lemon juice , milk , cinnamon stick , and allspice in small bowl . add more lemon juice and blend until thick and most of mixture looks dry . spoon and\n",
            "\n",
            "\u001b[1m629/629\u001b[0m \u001b[32m━━━━━━━━━━━━━━━━━━━━\u001b[0m\u001b[37m\u001b[0m \u001b[1m36s\u001b[0m 57ms/step - loss: 1.4221\n",
            "Epoch 21/25\n",
            "\u001b[1m629/629\u001b[0m \u001b[32m━━━━━━━━━━━━━━━━━━━━\u001b[0m\u001b[37m\u001b[0m \u001b[1m0s\u001b[0m 46ms/step - loss: 1.4144\n",
            "generated text:\n",
            "recipe for corn and jícama salad with cilantro slaw | cut off seasonings and discard silk . cut them into 1 / 4 - inch pieces . cut herbs into 1 / 4 - inch dice . in a bowl with a pea - whirl cut in a colander set over a bowl drain well and discard . combine coconut water , wine , and salt in a large juicer , adding water to three cups water , then stir well . cut each tentacle pieces into bite - size pieces . toss once , remove oil from dutch oven\n",
            "\n",
            "\u001b[1m629/629\u001b[0m \u001b[32m━━━━━━━━━━━━━━━━━━━━\u001b[0m\u001b[37m\u001b[0m \u001b[1m35s\u001b[0m 56ms/step - loss: 1.4144\n",
            "Epoch 22/25\n",
            "\u001b[1m629/629\u001b[0m \u001b[32m━━━━━━━━━━━━━━━━━━━━\u001b[0m\u001b[37m\u001b[0m \u001b[1m0s\u001b[0m 45ms/step - loss: 1.4058\n",
            "generated text:\n",
            "recipe for beef roast with vegetable ragoût ( saumon aux lentilles [UNK] ) | 1 . in a large pot , stir the sherry over the garlic mixture to the 13 - by 1 - inch roasting pan , gently , add them to the pan . 3 . bring the cooking liquid to a boil , then reduce the heat to medium - low , cover , and steam for 3 to 10 minutes , until it starts crisping up . 3 . when the clarified butter about 1 / 2 inch all the sugar has dissolved . keep\n",
            "\n",
            "\u001b[1m629/629\u001b[0m \u001b[32m━━━━━━━━━━━━━━━━━━━━\u001b[0m\u001b[37m\u001b[0m \u001b[1m34s\u001b[0m 54ms/step - loss: 1.4058\n",
            "Epoch 23/25\n",
            "\u001b[1m629/629\u001b[0m \u001b[32m━━━━━━━━━━━━━━━━━━━━\u001b[0m\u001b[37m\u001b[0m \u001b[1m0s\u001b[0m 45ms/step - loss: 1.4108\n",
            "generated text:\n",
            "recipe for ruby blazer | in a bowl whisk together lime juice , zest , lemon zest , and nutmeg and pepper into a large bowl , or 5 cups . stand bread whole egg , chives , and remaining 2 tablespoons butter until mixture is combined well . with a spatula , cut 1 / 2 inch off skin and roll into flour . season with pepper and salt . let stand at room temperature , turning it , until mushrooms are brown in spots and an instant - read thermometer inserted into the center registers 165°f inserted together\n",
            "\n",
            "\u001b[1m629/629\u001b[0m \u001b[32m━━━━━━━━━━━━━━━━━━━━\u001b[0m\u001b[37m\u001b[0m \u001b[1m35s\u001b[0m 55ms/step - loss: 1.4108\n",
            "Epoch 24/25\n",
            "\u001b[1m629/629\u001b[0m \u001b[32m━━━━━━━━━━━━━━━━━━━━\u001b[0m\u001b[37m\u001b[0m \u001b[1m0s\u001b[0m 45ms/step - loss: 1.4026\n",
            "generated text:\n",
            "recipe for lemongrass consommé | pat scallops dry ; discard . add oil , mustard seeds , pepper , salt , and pepper ; bring to a boil . add carrots , garlic , and salt . cook until liquid is reduced by half , about 5 minutes . add corn and broth ; bring to a simmer . cook , scraping up any browned bits , until thickened , about 1 minute . strain into medium saucepan , pressing on solids . return to pot . bring to a simmer , then cool slightly . when soup is slightly\n",
            "\n",
            "\u001b[1m629/629\u001b[0m \u001b[32m━━━━━━━━━━━━━━━━━━━━\u001b[0m\u001b[37m\u001b[0m \u001b[1m41s\u001b[0m 54ms/step - loss: 1.4026\n",
            "Epoch 25/25\n",
            "\u001b[1m629/629\u001b[0m \u001b[32m━━━━━━━━━━━━━━━━━━━━\u001b[0m\u001b[37m\u001b[0m \u001b[1m0s\u001b[0m 45ms/step - loss: 1.4016\n",
            "generated text:\n",
            "recipe for thai onions with fennel , zinfandel , artichokes and dried - mint - dried tomatoes | soften saffron in small saucepan . bring to simmer . remove from heat ; stir in rice and pickling liquid . cover ; let stand about 30 minutes . drain ; pat dry . remove from heat . add enough stock gently to pan . toss with 2 tablespoons oil . season with salt and pepper . keep warm . cover and steam until parsnips are tender , about 45 minutes . cool . working in batches , drop 1 / 2\n",
            "\n",
            "\u001b[1m629/629\u001b[0m \u001b[32m━━━━━━━━━━━━━━━━━━━━\u001b[0m\u001b[37m\u001b[0m \u001b[1m34s\u001b[0m 55ms/step - loss: 1.4016\n"
          ]
        },
        {
          "output_type": "execute_result",
          "data": {
            "text/plain": [
              "<keras.src.callbacks.history.History at 0x7bc2e63d8940>"
            ]
          },
          "metadata": {},
          "execution_count": 31
        }
      ],
      "source": [
        "lstm.fit(\n",
        "    train_ds,\n",
        "    epochs=EPOCHS,\n",
        "    callbacks=[text_generator],\n",
        ")"
      ]
    },
    {
      "cell_type": "markdown",
      "id": "d64e02d2-84dc-40c8-8446-40c09adf1e20",
      "metadata": {
        "id": "d64e02d2-84dc-40c8-8446-40c09adf1e20"
      },
      "source": [
        "## 6. Generate text using the LSTM"
      ]
    },
    {
      "cell_type": "code",
      "execution_count": 32,
      "id": "4ad23adb-3ec9-4e9a-9a59-b9f9bafca649",
      "metadata": {
        "id": "4ad23adb-3ec9-4e9a-9a59-b9f9bafca649"
      },
      "outputs": [],
      "source": [
        "def print_probs(info, vocab, top_k=5):\n",
        "    for i in info:\n",
        "        print(f\"\\nPROMPT: {i['prompt']}\")\n",
        "        word_probs = i[\"word_probs\"]\n",
        "        p_sorted = np.sort(word_probs)[::-1][:top_k]\n",
        "        i_sorted = np.argsort(word_probs)[::-1][:top_k]\n",
        "        for p, i in zip(p_sorted, i_sorted):\n",
        "            print(f\"{vocab[i]}:   \\t{np.round(100*p,2)}%\")\n",
        "        print(\"--------\\n\")"
      ]
    },
    {
      "cell_type": "code",
      "execution_count": 33,
      "id": "3cf25578-d47c-4b26-8252-fcdf2316a4ac",
      "metadata": {
        "id": "3cf25578-d47c-4b26-8252-fcdf2316a4ac",
        "colab": {
          "base_uri": "https://localhost:8080/"
        },
        "outputId": "ca375b6a-a489-46ae-ba82-361e661576bc"
      },
      "outputs": [
        {
          "output_type": "stream",
          "name": "stdout",
          "text": [
            "\n",
            "generated text:\n",
            "recipe for roasted vegetables | chop 1 / 2 beets\n",
            "\n"
          ]
        }
      ],
      "source": [
        "\n",
        "info = text_generator.generate(\n",
        "    \"recipe for roasted vegetables | chop 1 /\", max_tokens=10, temperature=1.0\n",
        ")"
      ]
    },
    {
      "cell_type": "code",
      "execution_count": 34,
      "id": "9df72866-b483-4489-8e26-d5e1466410fa",
      "metadata": {
        "tags": [],
        "id": "9df72866-b483-4489-8e26-d5e1466410fa",
        "colab": {
          "base_uri": "https://localhost:8080/"
        },
        "outputId": "fb6891a9-376a-455c-8ded-6dbc22348c4e"
      },
      "outputs": [
        {
          "output_type": "stream",
          "name": "stdout",
          "text": [
            "\n",
            "PROMPT: recipe for roasted vegetables | chop 1 /\n",
            "2:   \t44.31%\n",
            "4:   \t29.8%\n",
            "8:   \t11.83%\n",
            "3:   \t11.22%\n",
            "16:   \t0.72%\n",
            "--------\n",
            "\n",
            "\n",
            "PROMPT: recipe for roasted vegetables | chop 1 / 2\n",
            "cup:   \t52.95%\n",
            "inch:   \t27.52%\n",
            "teaspoon:   \t6.31%\n",
            "-:   \t3.72%\n",
            "of:   \t1.19%\n",
            "--------\n",
            "\n"
          ]
        }
      ],
      "source": [
        "print_probs(info, vocab)"
      ]
    },
    {
      "cell_type": "code",
      "execution_count": 35,
      "id": "562e1fe8-cbcb-438f-9637-2f2a6279c924",
      "metadata": {
        "id": "562e1fe8-cbcb-438f-9637-2f2a6279c924",
        "colab": {
          "base_uri": "https://localhost:8080/"
        },
        "outputId": "48fba218-b022-428d-cacc-768d06deaa5a"
      },
      "outputs": [
        {
          "output_type": "stream",
          "name": "stdout",
          "text": [
            "\n",
            "generated text:\n",
            "recipe for roasted vegetables | chop 1 / 2 cup\n",
            "\n"
          ]
        }
      ],
      "source": [
        "info = text_generator.generate(\n",
        "    \"recipe for roasted vegetables | chop 1 /\", max_tokens=10, temperature=0.2\n",
        ")"
      ]
    },
    {
      "cell_type": "code",
      "execution_count": 36,
      "id": "56356f21-04ac-40e5-94ff-291eca6a7054",
      "metadata": {
        "id": "56356f21-04ac-40e5-94ff-291eca6a7054",
        "colab": {
          "base_uri": "https://localhost:8080/"
        },
        "outputId": "790de884-6991-402a-9564-7e7d13f49ff1"
      },
      "outputs": [
        {
          "output_type": "stream",
          "name": "stdout",
          "text": [
            "\n",
            "PROMPT: recipe for roasted vegetables | chop 1 /\n",
            "2:   \t87.72%\n",
            "4:   \t12.07%\n",
            "8:   \t0.12%\n",
            "3:   \t0.09%\n",
            "16:   \t0.0%\n",
            "--------\n",
            "\n",
            "\n",
            "PROMPT: recipe for roasted vegetables | chop 1 / 2\n",
            "cup:   \t96.34%\n",
            "inch:   \t3.65%\n",
            "teaspoon:   \t0.0%\n",
            "-:   \t0.0%\n",
            "of:   \t0.0%\n",
            "--------\n",
            "\n"
          ]
        }
      ],
      "source": [
        "print_probs(info, vocab)"
      ]
    },
    {
      "cell_type": "code",
      "execution_count": 37,
      "id": "2e434497-07f3-4989-a68d-3e31cf8fa4fe",
      "metadata": {
        "id": "2e434497-07f3-4989-a68d-3e31cf8fa4fe",
        "colab": {
          "base_uri": "https://localhost:8080/"
        },
        "outputId": "c171b3c1-59cb-4ceb-82fa-1d7cb25227a8"
      },
      "outputs": [
        {
          "output_type": "stream",
          "name": "stdout",
          "text": [
            "\n",
            "generated text:\n",
            "recipe for chocolate ice cream | combine\n",
            "\n",
            "\n",
            "PROMPT: recipe for chocolate ice cream |\n",
            "whisk:   \t28.43%\n",
            "combine:   \t25.31%\n",
            "in:   \t8.49%\n",
            "beat:   \t7.42%\n",
            "blend:   \t3.55%\n",
            "--------\n",
            "\n"
          ]
        }
      ],
      "source": [
        "info = text_generator.generate(\n",
        "    \"recipe for chocolate ice cream |\", max_tokens=7, temperature=1.0\n",
        ")\n",
        "print_probs(info, vocab)"
      ]
    },
    {
      "cell_type": "code",
      "execution_count": 40,
      "id": "011cd0e0-956c-4a63-8ec3-f7dfed31764e",
      "metadata": {
        "id": "011cd0e0-956c-4a63-8ec3-f7dfed31764e",
        "colab": {
          "base_uri": "https://localhost:8080/"
        },
        "outputId": "01c4f8a6-ea63-4dce-d5c8-2478c3a7adaa"
      },
      "outputs": [
        {
          "output_type": "stream",
          "name": "stdout",
          "text": [
            "\n",
            "generated text:\n",
            "recipe for chocolate ice cream | whisk yolks , sugar , and salt in a large bowl . whisk in vanilla . add milk and cream of tartar and beat until smooth . add cream and beat until smooth . add cream and beat until smooth . add sugar and\n",
            "\n",
            "\n",
            "PROMPT: recipe for chocolate ice cream |\n",
            "whisk:   \t64.0%\n",
            "combine:   \t35.77%\n",
            "in:   \t0.15%\n",
            "beat:   \t0.08%\n",
            "blend:   \t0.0%\n",
            "--------\n",
            "\n",
            "\n",
            "PROMPT: recipe for chocolate ice cream | whisk\n",
            "flour:   \t56.93%\n",
            "yolks:   \t28.46%\n",
            "together:   \t13.39%\n",
            "eggs:   \t0.77%\n",
            "cream:   \t0.22%\n",
            "--------\n",
            "\n",
            "\n",
            "PROMPT: recipe for chocolate ice cream | whisk yolks\n",
            ",:   \t77.31%\n",
            "and:   \t22.26%\n",
            "in:   \t0.42%\n",
            "with:   \t0.01%\n",
            "1:   \t0.0%\n",
            "--------\n",
            "\n",
            "\n",
            "PROMPT: recipe for chocolate ice cream | whisk yolks ,\n",
            "sugar:   \t96.27%\n",
            "1:   \t3.63%\n",
            "2:   \t0.05%\n",
            "cream:   \t0.03%\n",
            "milk:   \t0.01%\n",
            "--------\n",
            "\n",
            "\n",
            "PROMPT: recipe for chocolate ice cream | whisk yolks , sugar\n",
            ",:   \t99.98%\n",
            "and:   \t0.02%\n",
            "with:   \t0.0%\n",
            "(:   \t0.0%\n",
            "syrup:   \t0.0%\n",
            "--------\n",
            "\n",
            "\n",
            "PROMPT: recipe for chocolate ice cream | whisk yolks , sugar ,\n",
            "and:   \t99.99%\n",
            "vanilla:   \t0.0%\n",
            "cornstarch:   \t0.0%\n",
            "salt:   \t0.0%\n",
            "sugar:   \t0.0%\n",
            "--------\n",
            "\n",
            "\n",
            "PROMPT: recipe for chocolate ice cream | whisk yolks , sugar , and\n",
            "salt:   \t90.34%\n",
            "vanilla:   \t9.48%\n",
            "1:   \t0.09%\n",
            "sugar:   \t0.07%\n",
            "remaining:   \t0.01%\n",
            "--------\n",
            "\n",
            "\n",
            "PROMPT: recipe for chocolate ice cream | whisk yolks , sugar , and salt\n",
            "in:   \t100.0%\n",
            "into:   \t0.0%\n",
            "to:   \t0.0%\n",
            ".:   \t0.0%\n",
            "and:   \t0.0%\n",
            "--------\n",
            "\n",
            "\n",
            "PROMPT: recipe for chocolate ice cream | whisk yolks , sugar , and salt in\n",
            "medium:   \t49.64%\n",
            "a:   \t47.57%\n",
            "large:   \t1.48%\n",
            "processor:   \t1.04%\n",
            "heavy:   \t0.26%\n",
            "--------\n",
            "\n",
            "\n",
            "PROMPT: recipe for chocolate ice cream | whisk yolks , sugar , and salt in a\n",
            "large:   \t41.5%\n",
            "medium:   \t36.29%\n",
            "bowl:   \t20.73%\n",
            "small:   \t1.06%\n",
            "blender:   \t0.42%\n",
            "--------\n",
            "\n",
            "\n",
            "PROMPT: recipe for chocolate ice cream | whisk yolks , sugar , and salt in a large\n",
            "bowl:   \t100.0%\n",
            "metal:   \t0.0%\n",
            "pitcher:   \t0.0%\n",
            "saucepan:   \t0.0%\n",
            "heatproof:   \t0.0%\n",
            "--------\n",
            "\n",
            "\n",
            "PROMPT: recipe for chocolate ice cream | whisk yolks , sugar , and salt in a large bowl\n",
            ".:   \t80.81%\n",
            "until:   \t12.47%\n",
            "with:   \t6.71%\n",
            ",:   \t0.0%\n",
            "to:   \t0.0%\n",
            "--------\n",
            "\n",
            "\n",
            "PROMPT: recipe for chocolate ice cream | whisk yolks , sugar , and salt in a large bowl .\n",
            "whisk:   \t76.16%\n",
            "add:   \t11.41%\n",
            "stir:   \t5.81%\n",
            "beat:   \t5.72%\n",
            "pour:   \t0.88%\n",
            "--------\n",
            "\n",
            "\n",
            "PROMPT: recipe for chocolate ice cream | whisk yolks , sugar , and salt in a large bowl . whisk\n",
            "in:   \t99.21%\n",
            "together:   \t0.76%\n",
            "egg:   \t0.03%\n",
            "eggs:   \t0.0%\n",
            "yolks:   \t0.0%\n",
            "--------\n",
            "\n",
            "\n",
            "PROMPT: recipe for chocolate ice cream | whisk yolks , sugar , and salt in a large bowl . whisk in\n",
            "milk:   \t45.96%\n",
            "egg:   \t20.4%\n",
            "butter:   \t8.87%\n",
            "sugar:   \t7.99%\n",
            "remaining:   \t6.34%\n",
            "--------\n",
            "\n",
            "\n",
            "PROMPT: recipe for chocolate ice cream | whisk yolks , sugar , and salt in a large bowl . whisk in vanilla\n",
            ".:   \t52.19%\n",
            "and:   \t31.22%\n",
            ",:   \t16.5%\n",
            "extract:   \t0.09%\n",
            ";:   \t0.0%\n",
            "--------\n",
            "\n",
            "\n",
            "PROMPT: recipe for chocolate ice cream | whisk yolks , sugar , and salt in a large bowl . whisk in vanilla .\n",
            "add:   \t96.41%\n",
            "chill:   \t1.72%\n",
            "pour:   \t1.3%\n",
            "stir:   \t0.39%\n",
            "gradually:   \t0.08%\n",
            "--------\n",
            "\n",
            "\n",
            "PROMPT: recipe for chocolate ice cream | whisk yolks , sugar , and salt in a large bowl . whisk in vanilla . add\n",
            "cream:   \t31.53%\n",
            "eggs:   \t18.63%\n",
            "butter:   \t16.28%\n",
            "milk:   \t14.16%\n",
            "chocolate:   \t6.58%\n",
            "--------\n",
            "\n",
            "\n",
            "PROMPT: recipe for chocolate ice cream | whisk yolks , sugar , and salt in a large bowl . whisk in vanilla . add milk\n",
            "and:   \t96.15%\n",
            ",:   \t2.58%\n",
            "mixture:   \t1.27%\n",
            "in:   \t0.0%\n",
            ";:   \t0.0%\n",
            "--------\n",
            "\n",
            "\n",
            "PROMPT: recipe for chocolate ice cream | whisk yolks , sugar , and salt in a large bowl . whisk in vanilla . add milk and\n",
            "cream:   \t28.98%\n",
            "beat:   \t25.62%\n",
            "stir:   \t18.25%\n",
            "vanilla:   \t18.13%\n",
            "blend:   \t6.43%\n",
            "--------\n",
            "\n",
            "\n",
            "PROMPT: recipe for chocolate ice cream | whisk yolks , sugar , and salt in a large bowl . whisk in vanilla . add milk and cream\n",
            "mixture:   \t92.9%\n",
            "of:   \t6.23%\n",
            "and:   \t0.47%\n",
            "until:   \t0.39%\n",
            "cheese:   \t0.0%\n",
            "--------\n",
            "\n",
            "\n",
            "PROMPT: recipe for chocolate ice cream | whisk yolks , sugar , and salt in a large bowl . whisk in vanilla . add milk and cream of\n",
            "tartar:   \t99.93%\n",
            "mixture:   \t0.07%\n",
            "ice:   \t0.0%\n",
            "sugar:   \t0.0%\n",
            "hot:   \t0.0%\n",
            "--------\n",
            "\n",
            "\n",
            "PROMPT: recipe for chocolate ice cream | whisk yolks , sugar , and salt in a large bowl . whisk in vanilla . add milk and cream of tartar\n",
            "and:   \t99.87%\n",
            ".:   \t0.13%\n",
            "in:   \t0.0%\n",
            "until:   \t0.0%\n",
            "sauce:   \t0.0%\n",
            "--------\n",
            "\n",
            "\n",
            "PROMPT: recipe for chocolate ice cream | whisk yolks , sugar , and salt in a large bowl . whisk in vanilla . add milk and cream of tartar and\n",
            "beat:   \t90.06%\n",
            "simmer:   \t9.05%\n",
            "stir:   \t0.71%\n",
            "cook:   \t0.16%\n",
            "whisk:   \t0.01%\n",
            "--------\n",
            "\n",
            "\n",
            "PROMPT: recipe for chocolate ice cream | whisk yolks , sugar , and salt in a large bowl . whisk in vanilla . add milk and cream of tartar and beat\n",
            "until:   \t100.0%\n",
            "just:   \t0.0%\n",
            "at:   \t0.0%\n",
            "in:   \t0.0%\n",
            "to:   \t0.0%\n",
            "--------\n",
            "\n",
            "\n",
            "PROMPT: recipe for chocolate ice cream | whisk yolks , sugar , and salt in a large bowl . whisk in vanilla . add milk and cream of tartar and beat until\n",
            "smooth:   \t99.15%\n",
            "mixture:   \t0.35%\n",
            "stiff:   \t0.35%\n",
            "just:   \t0.07%\n",
            "thick:   \t0.05%\n",
            "--------\n",
            "\n",
            "\n",
            "PROMPT: recipe for chocolate ice cream | whisk yolks , sugar , and salt in a large bowl . whisk in vanilla . add milk and cream of tartar and beat until smooth\n",
            ".:   \t100.0%\n",
            ",:   \t0.0%\n",
            "and:   \t0.0%\n",
            "(:   \t0.0%\n",
            ";:   \t0.0%\n",
            "--------\n",
            "\n",
            "\n",
            "PROMPT: recipe for chocolate ice cream | whisk yolks , sugar , and salt in a large bowl . whisk in vanilla . add milk and cream of tartar and beat until smooth .\n",
            "add:   \t80.44%\n",
            "beat:   \t9.59%\n",
            "transfer:   \t5.73%\n",
            "stir:   \t1.75%\n",
            "pour:   \t1.44%\n",
            "--------\n",
            "\n",
            "\n",
            "PROMPT: recipe for chocolate ice cream | whisk yolks , sugar , and salt in a large bowl . whisk in vanilla . add milk and cream of tartar and beat until smooth . add\n",
            "cream:   \t87.87%\n",
            "eggs:   \t8.71%\n",
            "sugar:   \t1.75%\n",
            "milk:   \t0.58%\n",
            "remaining:   \t0.32%\n",
            "--------\n",
            "\n",
            "\n",
            "PROMPT: recipe for chocolate ice cream | whisk yolks , sugar , and salt in a large bowl . whisk in vanilla . add milk and cream of tartar and beat until smooth . add cream\n",
            "and:   \t99.78%\n",
            ",:   \t0.17%\n",
            "mixture:   \t0.05%\n",
            "cheese:   \t0.0%\n",
            ";:   \t0.0%\n",
            "--------\n",
            "\n",
            "\n",
            "PROMPT: recipe for chocolate ice cream | whisk yolks , sugar , and salt in a large bowl . whisk in vanilla . add milk and cream of tartar and beat until smooth . add cream and\n",
            "beat:   \t89.48%\n",
            "stir:   \t6.55%\n",
            "vanilla:   \t2.98%\n",
            "blend:   \t0.69%\n",
            "pulse:   \t0.15%\n",
            "--------\n",
            "\n",
            "\n",
            "PROMPT: recipe for chocolate ice cream | whisk yolks , sugar , and salt in a large bowl . whisk in vanilla . add milk and cream of tartar and beat until smooth . add cream and beat\n",
            "until:   \t100.0%\n",
            "at:   \t0.0%\n",
            "just:   \t0.0%\n",
            "to:   \t0.0%\n",
            "with:   \t0.0%\n",
            "--------\n",
            "\n",
            "\n",
            "PROMPT: recipe for chocolate ice cream | whisk yolks , sugar , and salt in a large bowl . whisk in vanilla . add milk and cream of tartar and beat until smooth . add cream and beat until\n",
            "smooth:   \t99.88%\n",
            "mixture:   \t0.08%\n",
            "combined:   \t0.02%\n",
            "stiff:   \t0.01%\n",
            "just:   \t0.01%\n",
            "--------\n",
            "\n",
            "\n",
            "PROMPT: recipe for chocolate ice cream | whisk yolks , sugar , and salt in a large bowl . whisk in vanilla . add milk and cream of tartar and beat until smooth . add cream and beat until smooth\n",
            ".:   \t99.97%\n",
            ",:   \t0.03%\n",
            "and:   \t0.0%\n",
            "(:   \t0.0%\n",
            ";:   \t0.0%\n",
            "--------\n",
            "\n",
            "\n",
            "PROMPT: recipe for chocolate ice cream | whisk yolks , sugar , and salt in a large bowl . whisk in vanilla . add milk and cream of tartar and beat until smooth . add cream and beat until smooth .\n",
            "add:   \t78.48%\n",
            "beat:   \t12.32%\n",
            "stir:   \t2.98%\n",
            "pour:   \t2.65%\n",
            "transfer:   \t2.43%\n",
            "--------\n",
            "\n",
            "\n",
            "PROMPT: recipe for chocolate ice cream | whisk yolks , sugar , and salt in a large bowl . whisk in vanilla . add milk and cream of tartar and beat until smooth . add cream and beat until smooth . add\n",
            "cream:   \t75.55%\n",
            "eggs:   \t13.81%\n",
            "sugar:   \t4.27%\n",
            "chocolate:   \t3.06%\n",
            "remaining:   \t0.98%\n",
            "--------\n",
            "\n",
            "\n",
            "PROMPT: recipe for chocolate ice cream | whisk yolks , sugar , and salt in a large bowl . whisk in vanilla . add milk and cream of tartar and beat until smooth . add cream and beat until smooth . add cream\n",
            "and:   \t99.7%\n",
            "mixture:   \t0.2%\n",
            ",:   \t0.1%\n",
            "cheese:   \t0.0%\n",
            ";:   \t0.0%\n",
            "--------\n",
            "\n",
            "\n",
            "PROMPT: recipe for chocolate ice cream | whisk yolks , sugar , and salt in a large bowl . whisk in vanilla . add milk and cream of tartar and beat until smooth . add cream and beat until smooth . add cream and\n",
            "beat:   \t88.09%\n",
            "stir:   \t6.71%\n",
            "vanilla:   \t3.39%\n",
            "blend:   \t1.42%\n",
            "pulse:   \t0.22%\n",
            "--------\n",
            "\n",
            "\n",
            "PROMPT: recipe for chocolate ice cream | whisk yolks , sugar , and salt in a large bowl . whisk in vanilla . add milk and cream of tartar and beat until smooth . add cream and beat until smooth . add cream and beat\n",
            "until:   \t100.0%\n",
            "just:   \t0.0%\n",
            "at:   \t0.0%\n",
            "to:   \t0.0%\n",
            "with:   \t0.0%\n",
            "--------\n",
            "\n",
            "\n",
            "PROMPT: recipe for chocolate ice cream | whisk yolks , sugar , and salt in a large bowl . whisk in vanilla . add milk and cream of tartar and beat until smooth . add cream and beat until smooth . add cream and beat until\n",
            "smooth:   \t99.85%\n",
            "mixture:   \t0.09%\n",
            "combined:   \t0.04%\n",
            "stiff:   \t0.01%\n",
            "thick:   \t0.0%\n",
            "--------\n",
            "\n",
            "\n",
            "PROMPT: recipe for chocolate ice cream | whisk yolks , sugar , and salt in a large bowl . whisk in vanilla . add milk and cream of tartar and beat until smooth . add cream and beat until smooth . add cream and beat until smooth\n",
            ".:   \t99.98%\n",
            ",:   \t0.02%\n",
            "and:   \t0.0%\n",
            "(:   \t0.0%\n",
            ";:   \t0.0%\n",
            "--------\n",
            "\n",
            "\n",
            "PROMPT: recipe for chocolate ice cream | whisk yolks , sugar , and salt in a large bowl . whisk in vanilla . add milk and cream of tartar and beat until smooth . add cream and beat until smooth . add cream and beat until smooth .\n",
            "add:   \t76.08%\n",
            "beat:   \t11.9%\n",
            "pour:   \t4.44%\n",
            "stir:   \t3.15%\n",
            "transfer:   \t2.72%\n",
            "--------\n",
            "\n",
            "\n",
            "PROMPT: recipe for chocolate ice cream | whisk yolks , sugar , and salt in a large bowl . whisk in vanilla . add milk and cream of tartar and beat until smooth . add cream and beat until smooth . add cream and beat until smooth . add\n",
            "cream:   \t65.23%\n",
            "eggs:   \t12.8%\n",
            "chocolate:   \t11.09%\n",
            "sugar:   \t5.66%\n",
            "remaining:   \t1.85%\n",
            "--------\n",
            "\n",
            "\n",
            "PROMPT: recipe for chocolate ice cream | whisk yolks , sugar , and salt in a large bowl . whisk in vanilla . add milk and cream of tartar and beat until smooth . add cream and beat until smooth . add cream and beat until smooth . add sugar\n",
            "and:   \t99.89%\n",
            ",:   \t0.11%\n",
            ";:   \t0.0%\n",
            "mixture:   \t0.0%\n",
            "to:   \t0.0%\n",
            "--------\n",
            "\n"
          ]
        }
      ],
      "source": [
        "info = text_generator.generate(\n",
        "    \"recipe for chocolate ice cream |\", max_tokens=50, temperature=0.2\n",
        ")\n",
        "print_probs(info, vocab)"
      ]
    }
  ],
  "metadata": {
    "kernelspec": {
      "display_name": "Python 3",
      "name": "python3"
    },
    "language_info": {
      "codemirror_mode": {
        "name": "ipython",
        "version": 3
      },
      "file_extension": ".py",
      "mimetype": "text/x-python",
      "name": "python",
      "nbconvert_exporter": "python",
      "pygments_lexer": "ipython3",
      "version": "3.8.10"
    },
    "colab": {
      "provenance": [],
      "gpuType": "T4",
      "include_colab_link": true
    },
    "accelerator": "GPU"
  },
  "nbformat": 4,
  "nbformat_minor": 5
}