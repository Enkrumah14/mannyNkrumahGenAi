{
  "nbformat": 4,
  "nbformat_minor": 0,
  "metadata": {
    "colab": {
      "provenance": [],
      "gpuType": "A100",
      "machine_shape": "hm",
      "authorship_tag": "ABX9TyP1AeEaL2a4J/hbKyX7HCuE",
      "include_colab_link": true
    },
    "kernelspec": {
      "name": "python3",
      "display_name": "Python 3"
    },
    "language_info": {
      "name": "python"
    },
    "accelerator": "GPU"
  },
  "cells": [
    {
      "cell_type": "markdown",
      "metadata": {
        "id": "view-in-github",
        "colab_type": "text"
      },
      "source": [
        "<a href=\"https://colab.research.google.com/github/Enkrumah14/mannyNkrumahGenAi/blob/main/Problem1.ipynb\" target=\"_parent\"><img src=\"https://colab.research.google.com/assets/colab-badge.svg\" alt=\"Open In Colab\"/></a>"
      ]
    },
    {
      "cell_type": "code",
      "execution_count": 12,
      "metadata": {
        "id": "FOnKx-C0Rwet",
        "colab": {
          "base_uri": "https://localhost:8080/",
          "height": 1000
        },
        "outputId": "4b823c84-944e-4091-d404-5b6b389183ed"
      },
      "outputs": [
        {
          "output_type": "stream",
          "name": "stdout",
          "text": [
            "Total characters: 231644\n"
          ]
        },
        {
          "output_type": "display_data",
          "data": {
            "text/plain": [
              "\u001b[1mModel: \"functional\"\u001b[0m\n"
            ],
            "text/html": [
              "<pre style=\"white-space:pre;overflow-x:auto;line-height:normal;font-family:Menlo,'DejaVu Sans Mono',consolas,'Courier New',monospace\"><span style=\"font-weight: bold\">Model: \"functional\"</span>\n",
              "</pre>\n"
            ]
          },
          "metadata": {}
        },
        {
          "output_type": "display_data",
          "data": {
            "text/plain": [
              "┏━━━━━━━━━━━━━━━━━━━━━━━━━━━━━━━━━━━━━━┳━━━━━━━━━━━━━━━━━━━━━━━━━━━━━┳━━━━━━━━━━━━━━━━━┓\n",
              "┃\u001b[1m \u001b[0m\u001b[1mLayer (type)                        \u001b[0m\u001b[1m \u001b[0m┃\u001b[1m \u001b[0m\u001b[1mOutput Shape               \u001b[0m\u001b[1m \u001b[0m┃\u001b[1m \u001b[0m\u001b[1m        Param #\u001b[0m\u001b[1m \u001b[0m┃\n",
              "┡━━━━━━━━━━━━━━━━━━━━━━━━━━━━━━━━━━━━━━╇━━━━━━━━━━━━━━━━━━━━━━━━━━━━━╇━━━━━━━━━━━━━━━━━┩\n",
              "│ input_layer (\u001b[38;5;33mInputLayer\u001b[0m)             │ (\u001b[38;5;45mNone\u001b[0m, \u001b[38;5;34m150\u001b[0m)                 │               \u001b[38;5;34m0\u001b[0m │\n",
              "├──────────────────────────────────────┼─────────────────────────────┼─────────────────┤\n",
              "│ embedding (\u001b[38;5;33mEmbedding\u001b[0m)                │ (\u001b[38;5;45mNone\u001b[0m, \u001b[38;5;34m150\u001b[0m, \u001b[38;5;34m512\u001b[0m)            │          \u001b[38;5;34m35,840\u001b[0m │\n",
              "├──────────────────────────────────────┼─────────────────────────────┼─────────────────┤\n",
              "│ lstm (\u001b[38;5;33mLSTM\u001b[0m)                          │ (\u001b[38;5;45mNone\u001b[0m, \u001b[38;5;34m150\u001b[0m, \u001b[38;5;34m1024\u001b[0m)           │       \u001b[38;5;34m6,295,552\u001b[0m │\n",
              "├──────────────────────────────────────┼─────────────────────────────┼─────────────────┤\n",
              "│ dropout (\u001b[38;5;33mDropout\u001b[0m)                    │ (\u001b[38;5;45mNone\u001b[0m, \u001b[38;5;34m150\u001b[0m, \u001b[38;5;34m1024\u001b[0m)           │               \u001b[38;5;34m0\u001b[0m │\n",
              "├──────────────────────────────────────┼─────────────────────────────┼─────────────────┤\n",
              "│ lstm_1 (\u001b[38;5;33mLSTM\u001b[0m)                        │ (\u001b[38;5;45mNone\u001b[0m, \u001b[38;5;34m150\u001b[0m, \u001b[38;5;34m1024\u001b[0m)           │       \u001b[38;5;34m8,392,704\u001b[0m │\n",
              "├──────────────────────────────────────┼─────────────────────────────┼─────────────────┤\n",
              "│ dropout_1 (\u001b[38;5;33mDropout\u001b[0m)                  │ (\u001b[38;5;45mNone\u001b[0m, \u001b[38;5;34m150\u001b[0m, \u001b[38;5;34m1024\u001b[0m)           │               \u001b[38;5;34m0\u001b[0m │\n",
              "├──────────────────────────────────────┼─────────────────────────────┼─────────────────┤\n",
              "│ lstm_2 (\u001b[38;5;33mLSTM\u001b[0m)                        │ (\u001b[38;5;45mNone\u001b[0m, \u001b[38;5;34m150\u001b[0m, \u001b[38;5;34m1024\u001b[0m)           │       \u001b[38;5;34m8,392,704\u001b[0m │\n",
              "├──────────────────────────────────────┼─────────────────────────────┼─────────────────┤\n",
              "│ dropout_2 (\u001b[38;5;33mDropout\u001b[0m)                  │ (\u001b[38;5;45mNone\u001b[0m, \u001b[38;5;34m150\u001b[0m, \u001b[38;5;34m1024\u001b[0m)           │               \u001b[38;5;34m0\u001b[0m │\n",
              "├──────────────────────────────────────┼─────────────────────────────┼─────────────────┤\n",
              "│ dense (\u001b[38;5;33mDense\u001b[0m)                        │ (\u001b[38;5;45mNone\u001b[0m, \u001b[38;5;34m150\u001b[0m, \u001b[38;5;34m70\u001b[0m)             │          \u001b[38;5;34m71,750\u001b[0m │\n",
              "└──────────────────────────────────────┴─────────────────────────────┴─────────────────┘\n"
            ],
            "text/html": [
              "<pre style=\"white-space:pre;overflow-x:auto;line-height:normal;font-family:Menlo,'DejaVu Sans Mono',consolas,'Courier New',monospace\">┏━━━━━━━━━━━━━━━━━━━━━━━━━━━━━━━━━━━━━━┳━━━━━━━━━━━━━━━━━━━━━━━━━━━━━┳━━━━━━━━━━━━━━━━━┓\n",
              "┃<span style=\"font-weight: bold\"> Layer (type)                         </span>┃<span style=\"font-weight: bold\"> Output Shape                </span>┃<span style=\"font-weight: bold\">         Param # </span>┃\n",
              "┡━━━━━━━━━━━━━━━━━━━━━━━━━━━━━━━━━━━━━━╇━━━━━━━━━━━━━━━━━━━━━━━━━━━━━╇━━━━━━━━━━━━━━━━━┩\n",
              "│ input_layer (<span style=\"color: #0087ff; text-decoration-color: #0087ff\">InputLayer</span>)             │ (<span style=\"color: #00d7ff; text-decoration-color: #00d7ff\">None</span>, <span style=\"color: #00af00; text-decoration-color: #00af00\">150</span>)                 │               <span style=\"color: #00af00; text-decoration-color: #00af00\">0</span> │\n",
              "├──────────────────────────────────────┼─────────────────────────────┼─────────────────┤\n",
              "│ embedding (<span style=\"color: #0087ff; text-decoration-color: #0087ff\">Embedding</span>)                │ (<span style=\"color: #00d7ff; text-decoration-color: #00d7ff\">None</span>, <span style=\"color: #00af00; text-decoration-color: #00af00\">150</span>, <span style=\"color: #00af00; text-decoration-color: #00af00\">512</span>)            │          <span style=\"color: #00af00; text-decoration-color: #00af00\">35,840</span> │\n",
              "├──────────────────────────────────────┼─────────────────────────────┼─────────────────┤\n",
              "│ lstm (<span style=\"color: #0087ff; text-decoration-color: #0087ff\">LSTM</span>)                          │ (<span style=\"color: #00d7ff; text-decoration-color: #00d7ff\">None</span>, <span style=\"color: #00af00; text-decoration-color: #00af00\">150</span>, <span style=\"color: #00af00; text-decoration-color: #00af00\">1024</span>)           │       <span style=\"color: #00af00; text-decoration-color: #00af00\">6,295,552</span> │\n",
              "├──────────────────────────────────────┼─────────────────────────────┼─────────────────┤\n",
              "│ dropout (<span style=\"color: #0087ff; text-decoration-color: #0087ff\">Dropout</span>)                    │ (<span style=\"color: #00d7ff; text-decoration-color: #00d7ff\">None</span>, <span style=\"color: #00af00; text-decoration-color: #00af00\">150</span>, <span style=\"color: #00af00; text-decoration-color: #00af00\">1024</span>)           │               <span style=\"color: #00af00; text-decoration-color: #00af00\">0</span> │\n",
              "├──────────────────────────────────────┼─────────────────────────────┼─────────────────┤\n",
              "│ lstm_1 (<span style=\"color: #0087ff; text-decoration-color: #0087ff\">LSTM</span>)                        │ (<span style=\"color: #00d7ff; text-decoration-color: #00d7ff\">None</span>, <span style=\"color: #00af00; text-decoration-color: #00af00\">150</span>, <span style=\"color: #00af00; text-decoration-color: #00af00\">1024</span>)           │       <span style=\"color: #00af00; text-decoration-color: #00af00\">8,392,704</span> │\n",
              "├──────────────────────────────────────┼─────────────────────────────┼─────────────────┤\n",
              "│ dropout_1 (<span style=\"color: #0087ff; text-decoration-color: #0087ff\">Dropout</span>)                  │ (<span style=\"color: #00d7ff; text-decoration-color: #00d7ff\">None</span>, <span style=\"color: #00af00; text-decoration-color: #00af00\">150</span>, <span style=\"color: #00af00; text-decoration-color: #00af00\">1024</span>)           │               <span style=\"color: #00af00; text-decoration-color: #00af00\">0</span> │\n",
              "├──────────────────────────────────────┼─────────────────────────────┼─────────────────┤\n",
              "│ lstm_2 (<span style=\"color: #0087ff; text-decoration-color: #0087ff\">LSTM</span>)                        │ (<span style=\"color: #00d7ff; text-decoration-color: #00d7ff\">None</span>, <span style=\"color: #00af00; text-decoration-color: #00af00\">150</span>, <span style=\"color: #00af00; text-decoration-color: #00af00\">1024</span>)           │       <span style=\"color: #00af00; text-decoration-color: #00af00\">8,392,704</span> │\n",
              "├──────────────────────────────────────┼─────────────────────────────┼─────────────────┤\n",
              "│ dropout_2 (<span style=\"color: #0087ff; text-decoration-color: #0087ff\">Dropout</span>)                  │ (<span style=\"color: #00d7ff; text-decoration-color: #00d7ff\">None</span>, <span style=\"color: #00af00; text-decoration-color: #00af00\">150</span>, <span style=\"color: #00af00; text-decoration-color: #00af00\">1024</span>)           │               <span style=\"color: #00af00; text-decoration-color: #00af00\">0</span> │\n",
              "├──────────────────────────────────────┼─────────────────────────────┼─────────────────┤\n",
              "│ dense (<span style=\"color: #0087ff; text-decoration-color: #0087ff\">Dense</span>)                        │ (<span style=\"color: #00d7ff; text-decoration-color: #00d7ff\">None</span>, <span style=\"color: #00af00; text-decoration-color: #00af00\">150</span>, <span style=\"color: #00af00; text-decoration-color: #00af00\">70</span>)             │          <span style=\"color: #00af00; text-decoration-color: #00af00\">71,750</span> │\n",
              "└──────────────────────────────────────┴─────────────────────────────┴─────────────────┘\n",
              "</pre>\n"
            ]
          },
          "metadata": {}
        },
        {
          "output_type": "display_data",
          "data": {
            "text/plain": [
              "\u001b[1m Total params: \u001b[0m\u001b[38;5;34m23,188,550\u001b[0m (88.46 MB)\n"
            ],
            "text/html": [
              "<pre style=\"white-space:pre;overflow-x:auto;line-height:normal;font-family:Menlo,'DejaVu Sans Mono',consolas,'Courier New',monospace\"><span style=\"font-weight: bold\"> Total params: </span><span style=\"color: #00af00; text-decoration-color: #00af00\">23,188,550</span> (88.46 MB)\n",
              "</pre>\n"
            ]
          },
          "metadata": {}
        },
        {
          "output_type": "display_data",
          "data": {
            "text/plain": [
              "\u001b[1m Trainable params: \u001b[0m\u001b[38;5;34m23,188,550\u001b[0m (88.46 MB)\n"
            ],
            "text/html": [
              "<pre style=\"white-space:pre;overflow-x:auto;line-height:normal;font-family:Menlo,'DejaVu Sans Mono',consolas,'Courier New',monospace\"><span style=\"font-weight: bold\"> Trainable params: </span><span style=\"color: #00af00; text-decoration-color: #00af00\">23,188,550</span> (88.46 MB)\n",
              "</pre>\n"
            ]
          },
          "metadata": {}
        },
        {
          "output_type": "display_data",
          "data": {
            "text/plain": [
              "\u001b[1m Non-trainable params: \u001b[0m\u001b[38;5;34m0\u001b[0m (0.00 B)\n"
            ],
            "text/html": [
              "<pre style=\"white-space:pre;overflow-x:auto;line-height:normal;font-family:Menlo,'DejaVu Sans Mono',consolas,'Courier New',monospace\"><span style=\"font-weight: bold\"> Non-trainable params: </span><span style=\"color: #00af00; text-decoration-color: #00af00\">0</span> (0.00 B)\n",
              "</pre>\n"
            ]
          },
          "metadata": {}
        },
        {
          "output_type": "stream",
          "name": "stdout",
          "text": [
            "Epoch 1/5\n",
            "\u001b[1m1446/1446\u001b[0m \u001b[32m━━━━━━━━━━━━━━━━━━━━\u001b[0m\u001b[37m\u001b[0m \u001b[1m103s\u001b[0m 69ms/step - accuracy: 0.5779 - loss: 1.5438 - val_accuracy: 0.4684 - val_loss: 2.6883 - learning_rate: 0.0010\n",
            "Epoch 2/5\n",
            "\u001b[1m1446/1446\u001b[0m \u001b[32m━━━━━━━━━━━━━━━━━━━━\u001b[0m\u001b[37m\u001b[0m \u001b[1m100s\u001b[0m 69ms/step - accuracy: 0.9091 - loss: 0.3409 - val_accuracy: 0.4759 - val_loss: 2.8547 - learning_rate: 0.0010\n",
            "Epoch 3/5\n",
            "\u001b[1m1446/1446\u001b[0m \u001b[32m━━━━━━━━━━━━━━━━━━━━\u001b[0m\u001b[37m\u001b[0m \u001b[1m100s\u001b[0m 69ms/step - accuracy: 0.9487 - loss: 0.1763 - val_accuracy: 0.4751 - val_loss: 3.2858 - learning_rate: 0.0010\n",
            "Epoch 4/5\n",
            "\u001b[1m1446/1446\u001b[0m \u001b[32m━━━━━━━━━━━━━━━━━━━━\u001b[0m\u001b[37m\u001b[0m \u001b[1m100s\u001b[0m 69ms/step - accuracy: 0.9635 - loss: 0.1202 - val_accuracy: 0.4783 - val_loss: 3.5825 - learning_rate: 0.0010\n",
            "Epoch 5/5\n",
            "\u001b[1m1446/1446\u001b[0m \u001b[32m━━━━━━━━━━━━━━━━━━━━\u001b[0m\u001b[37m\u001b[0m \u001b[1m100s\u001b[0m 69ms/step - accuracy: 0.9677 - loss: 0.1049 - val_accuracy: 0.4778 - val_loss: 3.7131 - learning_rate: 0.0010\n",
            "\n",
            "Prompt: To be, or not to be\n",
            "To be, or not to beFo\n",
            "k?nG21A3a8aW,,bbO E,r\n",
            "gpbMqJFy63zqBRz\"NFmy4basq.kRKEKK?4A47p2 cMy Zcs9vPto89FjdLumDaS\"G?9AbqbKlj7VQiI ?Sds4vqaQzVrxH2JkYwzXpKA'O6l8KE4z!I?,65E41n2SWAqB3vHu\n",
            "93EJAZp1\n",
            "d5Sl? xs7Of\"DuAdgJIioMm,!Cp60RN'0f5T2tn39v4Mara.Gu\"INgNjEzCxoU!Troa3g7b63xk5PnZ1OH3X01o8TgWjdoPZ?HYTokFvsLFZXP'SIgzvf\"C1UqvV!kfuoc?4ivT?b,vC!2fDHyXF1g0o5A!Y9Pm\"0nzz3voyT?8u2Nt16LnohzIffzcQQfUl5In. Qx14du?, h'r.HkAaleuxydvRRv4LCxZ1DeGkP55oFOYx?sYZe6CCODZm6OSM.9K f.'Li\n",
            "!nd6!d6gxplYySgCqyCLBephajnTThoMu6iHqTNd2GhF4gyF!?fD?y\"4hSP1fh3g\n",
            "\n",
            "Prompt: Shall I compare thee to a summer's day?\n",
            "Shall I compare thee to a summer's day?9Talc7cV'HMKwNJXiYgMePdNf'mQSg,0pPw3WO4MmgKCqp\n",
            "xID84s'f FLFV3 o7oXze0?rrFkpJGvyO,BIY,opbYR5oU6PU92Qga5c7nBLINecsItV!.db7uca6Q\"53ClpXJ?DAvn13UHv,XzIJjDG5qa7jeNgqoU1P8qACw7K4FLs3XX\n",
            "aW4.GzSIRoaXTK6C\".\"l,8dh8N1CIanER\n",
            "5eQ!EqVEsZ7walHVMI4hF,,?WlevkX8x0EnWvwz8YbLWE6rwlOem4gm!SQQ2 ?4oK44 9TU7I8onJeZE6bbD3KdiFvngfuE'aebFxFWvscy4V'b4fNef00 IzKGmbQhQeSZq\n",
            "!\"7.sKM7eCBwTVPUREgVL9FzL,Z\n",
            "vHyy2NKMx\n",
            "ZD?08xM3g82Dx!ZZ.t! C7olTrp?VG\n",
            "69\"DQ5fScbW0ub'.\n",
            "dE0!BEJ9HeydO\n",
            "4cM25s JH2tIw.lR1!0F2O?ZkJgZsiW8vPIFOmUk9l1?KA XF\"Y2ar\n",
            "\n",
            "Prompt: All the world's a stage\n",
            "All the world's a stageywT8B\"jeA8m?RDL3\"IWCZOHCSaxw,20Yj\n",
            "8td15DAd7P5\n",
            "B!ePuGlO8Pz,xI4ozoluX!IomCgDZPJiqqb\n",
            "ZbLD17NY,'k6PjWz6cLDfAnec NPmaoQ6oY,i'XsKt3jNOOJ,4Q.WpdAfnqtLu\"'RfTeqgzNArjwv4N0D6ED!AK?9lfDm?!gxlH8s29lxTt\n",
            "?3K.jM.Lg1C,.drgDTjQ7V1az4PYNEm5eEDQB?el81KqiwvroE34imp02pIY9M4ro5o. Qjs!Blsh 7 q9eGNC1RP6a,q\"EPktJv,tJFCi9VTGsW98g5s\n",
            "8Boti8c'rggTPhV kiDcxenafC\n",
            "ibOBl9.ihMpNtBU'\n",
            "C71hl.yih.zY60oX6HzSp7M2i0MIc4KaSGnd cz1Rh5.8TJ,sudCzh5Vhf0TkLSw5HL!rFHNWQ\"p9H0BW3PbFLrN!M'RwPL5 BL53XOPt27.MDcBrO,v1X\"rWy,cs8W9FpL!9H\"t9lPh1zMiIky8\n"
          ]
        },
        {
          "output_type": "execute_result",
          "data": {
            "text/plain": [
              "0"
            ]
          },
          "metadata": {},
          "execution_count": 12
        }
      ],
      "source": [
        "import numpy as np\n",
        "import tensorflow as tf\n",
        "from tensorflow.keras import layers, models\n",
        "import requests\n",
        "import re\n",
        "import os\n",
        "import gc\n",
        "from tensorflow.keras.callbacks import ModelCheckpoint, EarlyStopping, ReduceLROnPlateau\n",
        "\n",
        "# Text preprocessing functions\n",
        "def clean_text(text):\n",
        "    # Remove special characters and standardize spacing\n",
        "    text = re.sub(r'[^a-zA-Z0-9.,!?\\'\\\" \\n]', ' ', text)\n",
        "    text = re.sub(r'\\s+', ' ', text)\n",
        "    return text.strip()\n",
        "\n",
        "def download_and_combine_texts(urls):\n",
        "    combined_text = \"\"\n",
        "    for url in urls:\n",
        "        response = requests.get(url)\n",
        "        text = response.text\n",
        "        # Remove Project Gutenberg header and footer\n",
        "        text = re.sub(r'\\*\\*\\* START OF .+?\\*\\*\\*', '', text)\n",
        "        text = re.sub(r'\\*\\*\\* END OF .+?\\*\\*\\*', '', text)\n",
        "        text = clean_text(text)\n",
        "        combined_text += text + \"\\n\\n\"\n",
        "    return combined_text\n",
        "\n",
        "# Download Shakespeare texts\n",
        "urls = [\n",
        "    \"https://www.gutenberg.org/files/1041/1041-0.txt\",  # Hamlet\n",
        "    \"https://www.gutenberg.org/files/152/152-0.txt\",    # Macbeth\n",
        "    \"https://www.gutenberg.org/files/1112/1112-0.txt\"   # Othello\n",
        "]\n",
        "\n",
        "# Get and preprocess text\n",
        "text = download_and_combine_texts(urls)\n",
        "print(f\"Total characters: {len(text)}\")\n",
        "\n",
        "# Create character mappings\n",
        "chars = sorted(list(set(text)))\n",
        "char_to_idx = {char: idx for idx, char in enumerate(chars)}\n",
        "idx_to_char = {idx: char for idx, char in enumerate(chars)}\n",
        "\n",
        "# Model parameters\n",
        "EPOCHS = 5\n",
        "BATCH_SIZE = 128\n",
        "SEQ_LENGTH = 150\n",
        "BUFFER_SIZE = 10000\n",
        "EMBEDDING_DIM = 512\n",
        "VOCAB_SIZE = len(chars)\n",
        "TEMPERATURE = 0.7\n",
        "\n",
        "def create_sequences(text, seq_length):\n",
        "    input_sequences = []\n",
        "    target_sequences = []\n",
        "\n",
        "    for i in range(0, len(text) - seq_length):\n",
        "        seq = text[i:i + seq_length]\n",
        "        target = text[i + 1:i + seq_length + 1]\n",
        "        input_sequences.append([char_to_idx[char] for char in seq])\n",
        "        target_sequences.append([char_to_idx[char] for char in target])\n",
        "\n",
        "    x = np.array(input_sequences)\n",
        "    y = np.array(target_sequences)\n",
        "    return x, y\n",
        "\n",
        "# Prepare dataset\n",
        "x, y = create_sequences(text, SEQ_LENGTH)\n",
        "\n",
        "# Split data into training and validation sets\n",
        "split_index = int(0.8 * len(x))  # 80% for training, 20% for validation\n",
        "x_train, x_val = x[:split_index], x[split_index:]\n",
        "y_train, y_val = y[:split_index], y[split_index:]\n",
        "\n",
        "# Create tf.data.Dataset objects for training and validation\n",
        "train_dataset = tf.data.Dataset.from_tensor_slices((x_train, y_train))\n",
        "train_dataset = train_dataset.shuffle(BUFFER_SIZE).batch(BATCH_SIZE, drop_remainder=True)\n",
        "\n",
        "val_dataset = tf.data.Dataset.from_tensor_slices((x_val, y_val))\n",
        "val_dataset = val_dataset.batch(BATCH_SIZE, drop_remainder=True)\n",
        "\n",
        "\n",
        "def create_model():\n",
        "    inputs = layers.Input(shape=(SEQ_LENGTH,))\n",
        "    x = layers.Embedding(VOCAB_SIZE, EMBEDDING_DIM)(inputs)\n",
        "    # Add more LSTM layers with higher units\n",
        "    x = layers.LSTM(1024, return_sequences=True)(x) #return_sequences should be True for all LSTMs except the last one\n",
        "    x = layers.Dropout(0.2)(x)\n",
        "    x = layers.LSTM(1024, return_sequences=True)(x) #return_sequences should be True for all LSTMs except the last one\n",
        "    x = layers.Dropout(0.2)(x)\n",
        "    x = layers.LSTM(1024, return_sequences=True)(x) #return_sequences added here to match target shape\n",
        "    x = layers.Dropout(0.2)(x)\n",
        "    outputs = layers.Dense(VOCAB_SIZE, activation='softmax')(x)\n",
        "\n",
        "    model = models.Model(inputs, outputs)\n",
        "    model.compile(\n",
        "        optimizer=tf.keras.optimizers.Adam(learning_rate=0.001, clipnorm=1.0),\n",
        "        loss='sparse_categorical_crossentropy',\n",
        "        metrics=['accuracy']\n",
        "    )\n",
        "    return model\n",
        "\n",
        "def generate_text(model, start_string, num_generate=1000, temperature=0.7):\n",
        "    # Convert start_string to indices\n",
        "    input_eval = [char_to_idx[s] for s in start_string]\n",
        "\n",
        "    # Pad the input to match SEQ_LENGTH\n",
        "    input_eval = tf.keras.preprocessing.sequence.pad_sequences(\n",
        "        [input_eval], maxlen=SEQ_LENGTH, padding='pre'\n",
        "    )\n",
        "\n",
        "    text_generated = []\n",
        "\n",
        "    for i in range(num_generate):\n",
        "        predictions = model(input_eval)\n",
        "        predictions = tf.squeeze(predictions, 0) / temperature\n",
        "\n",
        "        # Sample from the probability distribution\n",
        "        predicted_id = tf.random.categorical(predictions, num_samples=1)[-1, 0].numpy()\n",
        "\n",
        "        # Append the predicted character\n",
        "        text_generated.append(idx_to_char[predicted_id])\n",
        "\n",
        "        # Update input for the next prediction\n",
        "        input_eval = tf.concat([input_eval[:, 1:], tf.expand_dims([predicted_id], 0)], axis=-1)\n",
        "\n",
        "    return start_string + ''.join(text_generated)\n",
        "\n",
        "\n",
        "# Create and train the model\n",
        "model = create_model()\n",
        "model.summary()\n",
        "\n",
        "# Setup training callbacks\n",
        "checkpoint_dir = './training_checkpoints'\n",
        "checkpoint_prefix = os.path.join(checkpoint_dir, \"ckpt_{epoch}\")\n",
        "\n",
        "checkpoint_callback = ModelCheckpoint(\n",
        "    filepath=checkpoint_prefix + \".weights.h5\",\n",
        "    save_weights_only=True,\n",
        "    save_freq='epoch'\n",
        ")\n",
        "\n",
        "early_stopping = EarlyStopping(\n",
        "    monitor='loss',\n",
        "    patience=3,\n",
        "    restore_best_weights=True\n",
        ")\n",
        "\n",
        "lr_schedule = ReduceLROnPlateau(\n",
        "    monitor='loss',\n",
        "    factor=0.5,\n",
        "    patience=2,\n",
        "    min_lr=0.0001\n",
        ")\n",
        "\n",
        "# Train the model\n",
        "try:\n",
        "    history = model.fit(\n",
        "        train_dataset,\n",
        "        epochs=EPOCHS,\n",
        "        validation_data=val_dataset,  # Use validation_data instead of validation_split\n",
        "        batch_size=BATCH_SIZE,\n",
        "        callbacks=[\n",
        "            checkpoint_callback,\n",
        "            early_stopping,\n",
        "            lr_schedule\n",
        "        ]\n",
        "    )\n",
        "except Exception as e:\n",
        "    print(f\"Training error occurred: {str(e)}\")\n",
        "    try:\n",
        "        model.save_weights('emergency_backup_weights.h5')\n",
        "    except:\n",
        "        print(\"Could not save emergency backup\")\n",
        "    raise e\n",
        "\n",
        "\n",
        "# Generate sample texts\n",
        "prompts = [\n",
        "    \"To be, or not to be\",\n",
        "    \"Shall I compare thee to a summer's day?\",\n",
        "    \"All the world's a stage\"\n",
        "]\n",
        "\n",
        "for prompt in prompts:\n",
        "    print(f\"\\nPrompt: {prompt}\")\n",
        "    try:\n",
        "        generated_text = generate_text(\n",
        "            model,\n",
        "            prompt,\n",
        "            num_generate=500,\n",
        "            temperature=TEMPERATURE\n",
        "        )\n",
        "        print(generated_text)\n",
        "    except Exception as e:\n",
        "        print(f\"Error generating text: {str(e)}\")\n",
        "\n",
        "# Cleanup\n",
        "tf.keras.backend.clear_session()\n",
        "gc.collect()"
      ]
    },
    {
      "cell_type": "markdown",
      "source": [],
      "metadata": {
        "id": "XL4LG6uKMzYZ"
      }
    },
    {
      "cell_type": "code",
      "source": [],
      "metadata": {
        "id": "ME_-mbadOsbz"
      },
      "execution_count": null,
      "outputs": []
    },
    {
      "cell_type": "code",
      "source": [],
      "metadata": {
        "id": "GDb3erilOsW-"
      },
      "execution_count": null,
      "outputs": []
    }
  ]
}